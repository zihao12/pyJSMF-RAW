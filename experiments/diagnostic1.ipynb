{
 "cells": [
  {
   "cell_type": "markdown",
   "metadata": {},
   "source": [
    "## Goal \n",
    "\n",
    "We already know the algorithm can produce very bad results. So try to understand which step in the algorithm affects performance the most"
   ]
  },
  {
   "cell_type": "code",
   "execution_count": 1,
   "metadata": {},
   "outputs": [],
   "source": [
    "import os\n",
    "import sys\n",
    "import pandas as pd\n",
    "from scipy import sparse\n",
    "\n",
    "import numpy as np\n",
    "import matplotlib.pyplot as plt\n",
    "from sklearn.decomposition import PCA\n",
    "from sklearn.decomposition import NMF\n",
    "import seaborn as sns\n",
    "from matplotlib.colors import LogNorm\n",
    "import pickle\n",
    "\n",
    "script_dir = \"../\"\n",
    "sys.path.append(os.path.abspath(script_dir))\n",
    "from file2 import *\n",
    "from factorize import *\n",
    "from smallsim_functions4 import *\n",
    "from misc import *\n",
    "from sinkhorn import * \n",
    "\n",
    "np.random.seed(123)"
   ]
  },
  {
   "cell_type": "markdown",
   "metadata": {},
   "source": [
    "## Simple simulation"
   ]
  },
  {
   "cell_type": "code",
   "execution_count": 2,
   "metadata": {},
   "outputs": [],
   "source": [
    "n = 1000\n",
    "p = 1200 ## make this larger to increase difficulty\n",
    "n_top = 20 ## number of top words in each topic\n",
    "k = 3\n",
    "doc_len = 80\n",
    "\n",
    "X, Atrue, Ftrue, p0 = smallsim_independent(n = n, p = p, k = k, doc_len = doc_len, n_top = n_top)\n",
    "w_idx = np.where(X.sum(axis = 0) > 0)[0]\n",
    "X = X[:,w_idx]"
   ]
  },
  {
   "cell_type": "code",
   "execution_count": 3,
   "metadata": {},
   "outputs": [],
   "source": [
    "%%capture\n",
    "Ctrue = Ftrue[w_idx,:] @ Atrue @ Ftrue[w_idx,:].T\n",
    "Strue, Btrue_fit, Atrue_fit, _, _, _, _, _ = factorizeC(Ctrue, K=k, rectifier='no', optimizer='activeSet')\n",
    "\n",
    "Cfit, _, _ = X2C(sparse.coo_matrix(X))\n",
    "Sfit, Bfit, Afit, _, _, _, _, Cfit = factorizeC(Cfit, K=k, rectifier='AP', optimizer='activeSet')\n",
    "\n",
    "Bfit2, Afit2 = recoverAB_givenSC(Cfit, Strue)"
   ]
  },
  {
   "cell_type": "code",
   "execution_count": 4,
   "metadata": {},
   "outputs": [
    {
     "name": "stdout",
     "output_type": "stream",
     "text": [
      "Atrue\n",
      "[[0.258 0.036 0.035]\n",
      " [0.036 0.25  0.037]\n",
      " [0.035 0.037 0.276]]\n",
      "Afit2\n",
      "[[0.26  0.039 0.032]\n",
      " [0.039 0.247 0.039]\n",
      " [0.032 0.039 0.275]]\n",
      "Afit\n",
      "[[0.394 0.    0.   ]\n",
      " [0.    0.413 0.   ]\n",
      " [0.    0.    0.393]]\n"
     ]
    }
   ],
   "source": [
    "print(\"Atrue\")\n",
    "print(Atrue.round(3))\n",
    "\n",
    "idx = match_topics(Ftrue, Bfit2).astype(int)\n",
    "print(\"Afit2\")\n",
    "print(Afit2[np.ix_(idx, idx)].round(3))\n",
    "\n",
    "idx = match_topics(Ftrue, Bfit).astype(int)\n",
    "print(\"Afit\")\n",
    "print(Afit[np.ix_(idx, idx)].round(3))"
   ]
  },
  {
   "cell_type": "code",
   "execution_count": 5,
   "metadata": {},
   "outputs": [
    {
     "name": "stdout",
     "output_type": "stream",
     "text": [
      "true F vs fitted F (know S)\n"
     ]
    },
    {
     "data": {
      "image/png": "[encoded data removed]",
      "text/plain": [
       "<Figure size 432x288 with 1 Axes>"
      ]
     },
     "metadata": {
      "needs_background": "light"
     },
     "output_type": "display_data"
    },
    {
     "data": {
      "image/png": "[encoded data removed]",
      "text/plain": [
       "<Figure size 432x288 with 1 Axes>"
      ]
     },
     "metadata": {
      "needs_background": "light"
     },
     "output_type": "display_data"
    },
    {
     "data": {
      "image/png": "[encoded data removed]",
      "text/plain": [
       "<Figure size 432x288 with 1 Axes>"
      ]
     },
     "metadata": {
      "needs_background": "light"
     },
     "output_type": "display_data"
    }
   ],
   "source": [
    "idx = match_topics(Ftrue, Bfit2).astype(int)\n",
    "print(\"true F vs fitted F (know S)\")\n",
    "for i in range(k):\n",
    "    plt.scatter(Ftrue[:, i], Bfit2[:, idx[i]])\n",
    "    plt.show()"
   ]
  },
  {
   "cell_type": "markdown",
   "metadata": {},
   "source": [
    "## More realistic data"
   ]
  },
  {
   "cell_type": "code",
   "execution_count": 6,
   "metadata": {},
   "outputs": [],
   "source": [
    "## load data\n",
    "dataname = \"sla\"\n",
    "k = 6\n",
    "rate=3\n",
    "\n",
    "datafile=f\"output/fit_sim_{dataname}_fastTopics_k{k}_rate{rate}.pkl\"\n",
    "with open(datafile, \"rb\") as f:\n",
    "    fitted = pickle.load(f)\n",
    "    \n",
    "X = fitted['X']\n",
    "Atrue = fitted['Atrue']\n",
    "Ftrue = fitted['Ftrue']\n",
    "Strue = fitted['S0']\n",
    "Sfit = fitted['S']\n",
    "\n",
    "\n",
    "Bfit = fitted['B']\n",
    "Bfit2 = fitted['B2']\n",
    "\n",
    "Afit = fitted['A']\n",
    "Afit2 = fitted['A2']"
   ]
  },
  {
   "cell_type": "code",
   "execution_count": 7,
   "metadata": {},
   "outputs": [
    {
     "name": "stdout",
     "output_type": "stream",
     "text": [
      "Atrue\n",
      "[[0.109 0.014 0.024 0.018 0.016 0.006]\n",
      " [0.014 0.084 0.018 0.011 0.01  0.008]\n",
      " [0.024 0.018 0.136 0.022 0.016 0.017]\n",
      " [0.018 0.011 0.022 0.115 0.013 0.005]\n",
      " [0.016 0.01  0.016 0.013 0.08  0.008]\n",
      " [0.006 0.008 0.017 0.005 0.008 0.065]]\n",
      "Afit2\n",
      "[[0.097 0.011 0.032 0.018 0.014 0.007]\n",
      " [0.011 0.084 0.023 0.01  0.008 0.008]\n",
      " [0.032 0.023 0.146 0.024 0.018 0.02 ]\n",
      " [0.018 0.01  0.024 0.107 0.01  0.004]\n",
      " [0.014 0.008 0.018 0.01  0.077 0.007]\n",
      " [0.007 0.008 0.02  0.004 0.007 0.062]]\n",
      "Afit\n",
      "[[0.252 0.    0.    0.    0.    0.   ]\n",
      " [0.    0.187 0.    0.    0.    0.   ]\n",
      " [0.    0.    0.405 0.    0.    0.   ]\n",
      " [0.    0.    0.    0.205 0.    0.   ]\n",
      " [0.    0.    0.    0.    0.226 0.   ]\n",
      " [0.    0.    0.    0.    0.    0.114]]\n"
     ]
    }
   ],
   "source": [
    "print(\"Atrue\")\n",
    "print(Atrue.round(3))\n",
    "\n",
    "idx = match_topics(Ftrue, Bfit2).astype(int)\n",
    "print(\"Afit2\")\n",
    "print(Afit2[np.ix_(idx, idx)].round(3))\n",
    "\n",
    "idx = match_topics(Ftrue, Bfit).astype(int)\n",
    "print(\"Afit\")\n",
    "print(Afit[np.ix_(idx, idx)].round(3))"
   ]
  },
  {
   "cell_type": "code",
   "execution_count": 8,
   "metadata": {},
   "outputs": [
    {
     "name": "stdout",
     "output_type": "stream",
     "text": [
      "true F vs fitted F (know S)\n"
     ]
    },
    {
     "data": {
      "image/png": "[encoded data removed]",
      "text/plain": [
       "<Figure size 432x288 with 1 Axes>"
      ]
     },
     "metadata": {
      "needs_background": "light"
     },
     "output_type": "display_data"
    },
    {
     "data": {
      "image/png": "[encoded data removed]",
      "text/plain": [
       "<Figure size 432x288 with 1 Axes>"
      ]
     },
     "metadata": {
      "needs_background": "light"
     },
     "output_type": "display_data"
    },
    {
     "data": {
      "image/png": "[encoded data removed]",
      "text/plain": [
       "<Figure size 432x288 with 1 Axes>"
      ]
     },
     "metadata": {
      "needs_background": "light"
     },
     "output_type": "display_data"
    },
    {
     "data": {
      "image/png": "[encoded data removed]",
      "text/plain": [
       "<Figure size 432x288 with 1 Axes>"
      ]
     },
     "metadata": {
      "needs_background": "light"
     },
     "output_type": "display_data"
    },
    {
     "data": {
      "image/png": "[encoded data removed]",
      "text/plain": [
       "<Figure size 432x288 with 1 Axes>"
      ]
     },
     "metadata": {
      "needs_background": "light"
     },
     "output_type": "display_data"
    },
    {
     "data": {
      "image/png": "[encoded data removed]",
      "text/plain": [
       "<Figure size 432x288 with 1 Axes>"
      ]
     },
     "metadata": {
      "needs_background": "light"
     },
     "output_type": "display_data"
    }
   ],
   "source": [
    "idx = match_topics(Ftrue, Bfit2).astype(int)\n",
    "print(\"true F vs fitted F (know S)\")\n",
    "for i in range(k):\n",
    "    plt.scatter(Ftrue[:, i], Bfit2[:, idx[i]])\n",
    "    plt.show()"
   ]
  },
  {
   "cell_type": "markdown",
   "metadata": {},
   "source": [
    "## Comment:\n",
    "\n",
    "* Can see `recoverS` is the bottleneck. Can be seen in other experiments that `recoverS` finds very bad anchor words and produce nonsense results. \n",
    "\n",
    "* Estimate of $A$ only depends on those anchor words, where $C_{s_k, s_l}$ are generally estimated very well. Estimate of $F$ depends on $C_{ij}$ only entry-wise. But `recoverS` depends on the entire $C$.   "
   ]
  }
 ],
 "metadata": {
  "kernelspec": {
   "display_name": "Python 3",
   "language": "python",
   "name": "python3"
  },
  "language_info": {
   "codemirror_mode": {
    "name": "ipython",
    "version": 3
   },
   "file_extension": ".py",
   "mimetype": "text/x-python",
   "name": "python",
   "nbconvert_exporter": "python",
   "pygments_lexer": "ipython3",
   "version": "3.7.6"
  }
 },
 "nbformat": 4,
 "nbformat_minor": 4
}
