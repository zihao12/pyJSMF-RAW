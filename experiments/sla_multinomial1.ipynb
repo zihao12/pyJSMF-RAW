{
 "cells": [
  {
   "cell_type": "markdown",
   "metadata": {},
   "source": [
    "## Introduction\n",
    "\n",
    "* The anchor-word algorithm is from [Practical Correlated Topic Modeling and Analysis via the Rectified Anchor Word Algorithm](https://moontae.people.uic.edu/papers/pdfs/Moontae_Lee-EMNLP2019.pdf). \n",
    "\n",
    "* I want to see how anchor-word algo works on a more realistically simulated dataset: I fit the  [sla dataset](https://zihao12.github.io/ebpmf_data_analysis/data_preprocessing_sla) with `fastTopics`. Then I use the fitted multinomial model to generate simulated data. I can change the document length to make the estimation problem easier or harder. \n",
    "\n",
    "\n",
    "## results\n",
    "\n",
    "* Directly fitted on the simuated data gets very bad results, whereas MLE can recover $F$ very well ($\\hat{L}$ is worse as it's probably a harder problem). The problem is poor $\\hat{C}$\n",
    "\n",
    "* Using true $C$, we can get almost perfect result (this also implies anchor-word assumption is satisfied)\n",
    "\n",
    "* However, when I increase the document length by only 3 times, we can get relatively good estimate of $F$, even when $\\hat{C}$ is still not good and the identified anchor-words are wrong! But the estimate of $A$ is not very good (so $L$ would be even worse)\n",
    "\n",
    "* Therefore when either the document length is long, or there are many many documents, we can expect better estimate of $C$ and good estimate of $F$. Also how to improve estimate of $C$ can be quite an important problem for anchor-word type of methods. \n"
   ]
  },
  {
   "cell_type": "code",
   "execution_count": 1,
   "metadata": {
    "collapsed": true
   },
   "outputs": [],
   "source": [
    "import os\n",
    "import sys\n",
    "import pandas as pd\n",
    "from scipy import sparse\n",
    "from sklearn.decomposition import NMF, LatentDirichletAllocation\n",
    "\n",
    "import numpy as np\n",
    "import matplotlib.pyplot as plt\n",
    "from scipy.io import mmread\n",
    "script_dir = \"../\"\n",
    "sys.path.append(os.path.abspath(script_dir))\n",
    "from file2 import *\n",
    "from factorize import *\n",
    "from smallsim_functions_anchor import *\n",
    "from misc import *\n",
    "\n",
    "\n",
    "np.random.seed(123)"
   ]
  },
  {
   "cell_type": "code",
   "execution_count": 2,
   "metadata": {
    "collapsed": true
   },
   "outputs": [],
   "source": [
    "datafile=\"../dataset/sla_simulated/sla_simulated_fastTopics_k6_1.mtx\"\n",
    "Lfile=\"../dataset/sla_simulated/sla_simulated_fastTopics_k6_1_trueL.csv\"\n",
    "Ffile=\"../dataset/sla_simulated/sla_simulated_fastTopics_k6_1_trueF.csv\"\n",
    "\n",
    "L = np.genfromtxt(Lfile)\n",
    "F = np.genfromtxt(Ffile)\n",
    "X = mmread(datafile)\n",
    "k = F.shape[1]"
   ]
  },
  {
   "cell_type": "code",
   "execution_count": 3,
   "metadata": {
    "collapsed": true
   },
   "outputs": [
    {
     "name": "stdout",
     "output_type": "stream",
     "text": [
      "[file.bows2C] Start constructing dense C...\n",
      "- Counting the co-occurrence for each document...\n",
      "+ Finish constructing C and D!\n",
      "  - The sum of all entries = 163.084746\n",
      "  - Elapsed Time = 2.2433 seconds\n"
     ]
    }
   ],
   "source": [
    "Bows = X2Bows(X)\n",
    "Crough, _, _ = bows2C(Bows, min_tokens=0)"
   ]
  },
  {
   "cell_type": "markdown",
   "metadata": {},
   "source": [
    "## Apply anchor-word algo to C w/ & w/o rectifying "
   ]
  },
  {
   "cell_type": "code",
   "execution_count": 4,
   "metadata": {
    "collapsed": true
   },
   "outputs": [],
   "source": [
    "## 1 row/column of C is all 0, so I make them small numbers to avoid numerical issue\n",
    "idx = np.where(Crough.sum(axis = 1) == 0)\n",
    "Crough[idx, :] = 1e-16 \n",
    "Crough[:, idx] = 1e-16"
   ]
  },
  {
   "cell_type": "code",
   "execution_count": 5,
   "metadata": {
    "collapsed": true
   },
   "outputs": [
    {
     "name": "stdout",
     "output_type": "stream",
     "text": [
      "+ Start rectifying C...\n",
      "  - Finish rectifying C! [0.000000]\n",
      "+ Start finding the set of anchor bases S...\n",
      "[inference.findS] Start finding the set of anchor bases S...\n",
      "+ Finish finding set S!\n",
      "  - Discovered 6 basis vectors by [sparsePartial] method.\n",
      "  - Elapsed time = 2.4383 seconds\n",
      "\n",
      "  - Finish finding S! [2.438289]\n",
      "+ Start recovering the object-cluster B...\n",
      "[inference.recoverB] Start recovering the object-cluster B...\n",
      "  - 0-th member...\n",
      "  - 500-th member...\n",
      "  - 1000-th member...\n",
      "  - 1500-th member...\n",
      "  - 2000-th member...\n",
      "  - 2500-th member...\n",
      "  - 3000-th member...\n",
      "  - 3500-th member...\n",
      "  - 4000-th member...\n",
      "  - 4500-th member...\n",
      "  - 5000-th member...\n",
      "  - 5500-th member...\n",
      "  - 6000-th member...\n",
      "  - 6500-th member...\n",
      "  - 7000-th member...\n",
      "  - 7500-th member...\n",
      "  - 8000-th member...\n",
      "+ Finish recovering B matrix using [activeSet]\n",
      "  - 6/8382 objects are converged.\n",
      "  - loss = 52.2766 (By Frobenius norm).\n",
      "  - Elapsed time = 17.4708 seconds.\n",
      "\n",
      "  - Finish recovering B! [17.470778]\n",
      "+ Start recovering the cluster-cluster A...\n",
      "[inference.recoverA] Start recovering the cluster-cluster A...\n",
      "+ Finish recovering A!\n",
      "  - [diagonal] recovery is used.\n",
      "  - Elapsed time = 0.0004 seconds.\n",
      "\n",
      "  - Finish recovering A! [0.000413]\n",
      "- Finish factorizing C! [20.839045]\n",
      "+ Start rectifying C...\n",
      "+ Start alternating projection\n",
      "  - 1-th iteration... (6.443456e-02 / 2.075908e-03)\n",
      "  - 2-th iteration... (3.777255e-06 / 2.075908e-03)\n",
      "  - 3-th iteration... (3.787366e-06 / 2.075908e-03)\n",
      "  - 4-th iteration... (3.797450e-06 / 2.075908e-03)\n",
      "  - 5-th iteration... (3.807504e-06 / 2.075908e-03)\n",
      "  - 6-th iteration... (3.817529e-06 / 2.075908e-03)\n",
      "  - 7-th iteration... (3.827523e-06 / 2.075909e-03)\n",
      "  - 8-th iteration... (3.837486e-06 / 2.075909e-03)\n",
      "  - 9-th iteration... (3.847416e-06 / 2.075909e-03)\n",
      "  - 10-th iteration... (3.857312e-06 / 2.075909e-03)\n",
      "  - 11-th iteration... (3.867174e-06 / 2.075909e-03)\n",
      "  - 12-th iteration... (3.877000e-06 / 2.075909e-03)\n",
      "  - 13-th iteration... (3.886790e-06 / 2.075909e-03)\n",
      "  - 14-th iteration... (3.896541e-06 / 2.075910e-03)\n",
      "  - 15-th iteration... (3.906254e-06 / 2.075910e-03)\n",
      "+ Finish alternating projection\n",
      "  - Elapsed seconds = 83.8536\n",
      "\n",
      "  - Finish rectifying C! [83.853646]\n",
      "+ Start finding the set of anchor bases S...\n",
      "[inference.findS] Start finding the set of anchor bases S...\n",
      "+ Finish finding set S!\n",
      "  - Discovered 6 basis vectors by [sparsePartial] method.\n",
      "  - Elapsed time = 2.4114 seconds\n",
      "\n",
      "  - Finish finding S! [2.411367]\n",
      "+ Start recovering the object-cluster B...\n",
      "[inference.recoverB] Start recovering the object-cluster B...\n",
      "  - 0-th member...\n",
      "  - 500-th member...\n",
      "  - 1000-th member...\n",
      "  - 1500-th member...\n",
      "  - 2000-th member...\n",
      "  - 2500-th member...\n",
      "  - 3000-th member...\n",
      "  - 3500-th member...\n",
      "  - 4000-th member...\n",
      "  - 4500-th member...\n",
      "  - 5000-th member...\n",
      "  - 5500-th member...\n",
      "  - 6000-th member...\n",
      "  - 6500-th member...\n",
      "  - 7000-th member...\n",
      "  - 7500-th member...\n",
      "  - 8000-th member...\n",
      "+ Finish recovering B matrix using [activeSet]\n",
      "  - 6/8382 objects are converged.\n",
      "  - loss = 35.1541 (By Frobenius norm).\n",
      "  - Elapsed time = 15.5144 seconds.\n",
      "\n",
      "  - Finish recovering B! [15.514415]\n",
      "+ Start recovering the cluster-cluster A...\n",
      "[inference.recoverA] Start recovering the cluster-cluster A...\n",
      "+ Finish recovering A!\n",
      "  - [diagonal] recovery is used.\n",
      "  - Elapsed time = 0.0005 seconds.\n",
      "\n",
      "  - Finish recovering A! [0.000538]\n",
      "- Finish factorizing C! [102.747934]\n"
     ]
    }
   ],
   "source": [
    "S1, B1, A1, Btilde1, _, _, _, _ = factorizeC(Crough, k, rectifier='no', optimizer=\"activeSet\")\n",
    "\n",
    "S2, B2, A2, Btilde2, _, _, _, Crec = factorizeC(Crough, k, rectifier='AP', optimizer=\"activeSet\")"
   ]
  },
  {
   "cell_type": "code",
   "execution_count": 6,
   "metadata": {
    "collapsed": true
   },
   "outputs": [
    {
     "name": "stdout",
     "output_type": "stream",
     "text": [
      "[5 5 4 4 5 5]\n",
      "[5 5 4 5 5 5]\n"
     ]
    }
   ],
   "source": [
    "tpx_idx1 = match_topics(F, B1).astype(int)\n",
    "tpx_idx2 = match_topics(F, B2).astype(int)\n",
    "print(tpx_idx1)\n",
    "print(tpx_idx2)"
   ]
  },
  {
   "cell_type": "code",
   "execution_count": 7,
   "metadata": {
    "collapsed": true
   },
   "outputs": [
    {
     "data": {
      "image/png": "[encoded data removed]",
      "text/plain": [
       "<Figure size 432x288 with 1 Axes>"
      ]
     },
     "metadata": {
      "needs_background": "light"
     },
     "output_type": "display_data"
    },
    {
     "data": {
      "image/png": "[encoded data removed]",
      "text/plain": [
       "<Figure size 432x288 with 1 Axes>"
      ]
     },
     "metadata": {
      "needs_background": "light"
     },
     "output_type": "display_data"
    },
    {
     "data": {
      "image/png": "[encoded data removed]",
      "text/plain": [
       "<Figure size 432x288 with 1 Axes>"
      ]
     },
     "metadata": {
      "needs_background": "light"
     },
     "output_type": "display_data"
    },
    {
     "data": {
      "image/png": "[encoded data removed]",
      "text/plain": [
       "<Figure size 432x288 with 1 Axes>"
      ]
     },
     "metadata": {
      "needs_background": "light"
     },
     "output_type": "display_data"
    },
    {
     "data": {
      "image/png": "[encoded data removed]",
      "text/plain": [
       "<Figure size 432x288 with 1 Axes>"
      ]
     },
     "metadata": {
      "needs_background": "light"
     },
     "output_type": "display_data"
    },
    {
     "data": {
      "image/png": "[encoded data removed]",
      "text/plain": [
       "<Figure size 432x288 with 1 Axes>"
      ]
     },
     "metadata": {
      "needs_background": "light"
     },
     "output_type": "display_data"
    }
   ],
   "source": [
    "for i in range(k):\n",
    "    plt.scatter(F[:, i], B1[:, tpx_idx1[i]])\n",
    "    plt.xlabel(\"f\")\n",
    "    plt.ylabel(\"fhat\")\n",
    "    plt.title(f\"topic {i + 1}\")\n",
    "    plt.show()"
   ]
  },
  {
   "cell_type": "markdown",
   "metadata": {},
   "source": [
    "So the algorithm fails badly. Let's see why below. "
   ]
  },
  {
   "cell_type": "markdown",
   "metadata": {},
   "source": [
    "## Apply anchor-word algo given true C"
   ]
  },
  {
   "cell_type": "code",
   "execution_count": 8,
   "metadata": {
    "collapsed": true
   },
   "outputs": [],
   "source": [
    "Ctrue = F @ L.T\n",
    "Ctrue = Ctrue @ Ctrue.T\n",
    "Ctrue = Ctrue/Ctrue.sum()"
   ]
  },
  {
   "cell_type": "code",
   "execution_count": 9,
   "metadata": {
    "collapsed": true
   },
   "outputs": [
    {
     "name": "stdout",
     "output_type": "stream",
     "text": [
      "+ Start rectifying C...\n",
      "  - Finish rectifying C! [0.000000]\n",
      "+ Start finding the set of anchor bases S...\n",
      "[inference.findS] Start finding the set of anchor bases S...\n",
      "+ Finish finding set S!\n",
      "  - Discovered 6 basis vectors by [sparsePartial] method.\n",
      "  - Elapsed time = 2.4328 seconds\n",
      "\n",
      "  - Finish finding S! [2.432772]\n",
      "+ Start recovering the object-cluster B...\n",
      "[inference.recoverB] Start recovering the object-cluster B...\n",
      "  - 0-th member...\n",
      "  - 500-th member...\n",
      "  - 1000-th member...\n",
      "  - 1500-th member...\n",
      "  - 2000-th member...\n",
      "  - 2500-th member...\n",
      "  - 3000-th member...\n",
      "  - 3500-th member...\n",
      "  - 4000-th member...\n",
      "  - 4500-th member...\n",
      "  - 5000-th member...\n",
      "  - 5500-th member...\n",
      "  - 6000-th member...\n",
      "  - 6500-th member...\n",
      "  - 7000-th member...\n",
      "  - 7500-th member...\n",
      "  - 8000-th member...\n",
      "+ Finish recovering B matrix using [activeSet]\n",
      "  - 6/8382 objects are converged.\n",
      "  - loss = 5.0904 (By Frobenius norm).\n",
      "  - Elapsed time = 17.8120 seconds.\n",
      "\n",
      "  - Finish recovering B! [17.812044]\n",
      "+ Start recovering the cluster-cluster A...\n",
      "[inference.recoverA] Start recovering the cluster-cluster A...\n",
      "+ Finish recovering A!\n",
      "  - [diagonal] recovery is used.\n",
      "  - Elapsed time = 0.0007 seconds.\n",
      "\n",
      "  - Finish recovering A! [0.000662]\n",
      "- Finish factorizing C! [21.161161]\n"
     ]
    }
   ],
   "source": [
    "S0, B0, A0, Btilde0, _, _, _, _ = factorizeC(Ctrue, k, rectifier='no', optimizer=\"activeSet\")"
   ]
  },
  {
   "cell_type": "code",
   "execution_count": 10,
   "metadata": {
    "collapsed": true
   },
   "outputs": [
    {
     "name": "stdout",
     "output_type": "stream",
     "text": [
      "[2 1 0 4 5 3]\n"
     ]
    },
    {
     "data": {
      "image/png": "[encoded data removed]",
      "text/plain": [
       "<Figure size 432x288 with 1 Axes>"
      ]
     },
     "metadata": {
      "needs_background": "light"
     },
     "output_type": "display_data"
    },
    {
     "data": {
      "image/png": "[encoded data removed]",
      "text/plain": [
       "<Figure size 432x288 with 1 Axes>"
      ]
     },
     "metadata": {
      "needs_background": "light"
     },
     "output_type": "display_data"
    },
    {
     "data": {
      "image/png": "[encoded data removed]",
      "text/plain": [
       "<Figure size 432x288 with 1 Axes>"
      ]
     },
     "metadata": {
      "needs_background": "light"
     },
     "output_type": "display_data"
    },
    {
     "data": {
      "image/png": "[encoded data removed]",
      "text/plain": [
       "<Figure size 432x288 with 1 Axes>"
      ]
     },
     "metadata": {
      "needs_background": "light"
     },
     "output_type": "display_data"
    },
    {
     "data": {
      "image/png": "[encoded data removed]",
      "text/plain": [
       "<Figure size 432x288 with 1 Axes>"
      ]
     },
     "metadata": {
      "needs_background": "light"
     },
     "output_type": "display_data"
    },
    {
     "data": {
      "image/png": "[encoded data removed]",
      "text/plain": [
       "<Figure size 432x288 with 1 Axes>"
      ]
     },
     "metadata": {
      "needs_background": "light"
     },
     "output_type": "display_data"
    }
   ],
   "source": [
    "tpx_idx0 = match_topics(F, B0).astype(int)\n",
    "print(tpx_idx0)\n",
    "\n",
    "for i in range(k):\n",
    "    plt.scatter(F[:, i], B0[:, tpx_idx0[i]])\n",
    "    plt.xlabel(\"f\")\n",
    "    plt.ylabel(\"fhat\")\n",
    "    plt.title(f\"topic {i + 1}\")\n",
    "    plt.show()"
   ]
  },
  {
   "cell_type": "markdown",
   "metadata": {},
   "source": [
    "* We can see given true $C$ the estimate is perfect. \n",
    "\n",
    "* Below we can see in true $F$ there are real \"anchor-words\", and the algorithm is able to find them! The estimated  weights for those words are also very accurate!!\n",
    "\n",
    "* On the other hand, the identified anchor words from estimated $C$ is very far from the assumptions! "
   ]
  },
  {
   "cell_type": "code",
   "execution_count": 11,
   "metadata": {
    "collapsed": true
   },
   "outputs": [
    {
     "data": {
      "text/plain": [
       "array([[0.004, 0.   , 0.   , 0.   , 0.   , 0.   ],\n",
       "       [0.   , 0.024, 0.   , 0.   , 0.   , 0.   ],\n",
       "       [0.   , 0.   , 0.001, 0.   , 0.   , 0.   ],\n",
       "       [0.   , 0.   , 0.   , 0.003, 0.   , 0.   ],\n",
       "       [0.   , 0.   , 0.   , 0.   , 0.008, 0.   ],\n",
       "       [0.   , 0.   , 0.   , 0.   , 0.   , 0.004]])"
      ]
     },
     "execution_count": 11,
     "metadata": {},
     "output_type": "execute_result"
    }
   ],
   "source": [
    "F[S0[tpx_idx0],].round(3)"
   ]
  },
  {
   "cell_type": "code",
   "execution_count": 12,
   "metadata": {
    "collapsed": true
   },
   "outputs": [
    {
     "data": {
      "text/plain": [
       "array([[0.004, 0.   , 0.   , 0.   , 0.   , 0.   ],\n",
       "       [0.   , 0.024, 0.   , 0.   , 0.   , 0.   ],\n",
       "       [0.   , 0.   , 0.001, 0.   , 0.   , 0.   ],\n",
       "       [0.   , 0.   , 0.   , 0.003, 0.   , 0.   ],\n",
       "       [0.   , 0.   , 0.   , 0.   , 0.008, 0.   ],\n",
       "       [0.   , 0.   , 0.   , 0.   , 0.   , 0.004]])"
      ]
     },
     "execution_count": 12,
     "metadata": {},
     "output_type": "execute_result"
    }
   ],
   "source": [
    "B0[np.ix_(S0[tpx_idx0],tpx_idx0)].round(3)"
   ]
  },
  {
   "cell_type": "code",
   "execution_count": 13,
   "metadata": {
    "collapsed": true
   },
   "outputs": [
    {
     "data": {
      "text/plain": [
       "array([[0.006, 0.006, 0.006, 0.008, 0.006, 0.005],\n",
       "       [0.006, 0.006, 0.006, 0.008, 0.006, 0.005],\n",
       "       [0.002, 0.005, 0.009, 0.01 , 0.006, 0.003],\n",
       "       [0.006, 0.006, 0.006, 0.008, 0.006, 0.005],\n",
       "       [0.006, 0.006, 0.006, 0.008, 0.006, 0.005],\n",
       "       [0.006, 0.006, 0.006, 0.008, 0.006, 0.005]])"
      ]
     },
     "execution_count": 13,
     "metadata": {},
     "output_type": "execute_result"
    }
   ],
   "source": [
    "F[S2[tpx_idx2],].round(3)"
   ]
  },
  {
   "cell_type": "markdown",
   "metadata": {},
   "source": [
    "Look at the estimate of A. They are basically the same!!"
   ]
  },
  {
   "cell_type": "code",
   "execution_count": 14,
   "metadata": {
    "collapsed": true
   },
   "outputs": [
    {
     "data": {
      "text/plain": [
       "array([[0.109, 0.014, 0.024, 0.018, 0.016, 0.006],\n",
       "       [0.014, 0.084, 0.018, 0.011, 0.01 , 0.008],\n",
       "       [0.024, 0.018, 0.136, 0.022, 0.016, 0.017],\n",
       "       [0.018, 0.011, 0.022, 0.115, 0.013, 0.005],\n",
       "       [0.016, 0.01 , 0.016, 0.013, 0.08 , 0.008],\n",
       "       [0.006, 0.008, 0.017, 0.005, 0.008, 0.065]])"
      ]
     },
     "execution_count": 14,
     "metadata": {},
     "output_type": "execute_result"
    }
   ],
   "source": [
    "Atrue = (L.T @ L)/L.shape[0]\n",
    "Atrue.round(3)"
   ]
  },
  {
   "cell_type": "code",
   "execution_count": 15,
   "metadata": {
    "collapsed": true
   },
   "outputs": [
    {
     "data": {
      "text/plain": [
       "array([[0.109, 0.014, 0.024, 0.018, 0.016, 0.006],\n",
       "       [0.014, 0.084, 0.018, 0.011, 0.01 , 0.008],\n",
       "       [0.024, 0.018, 0.136, 0.022, 0.016, 0.017],\n",
       "       [0.018, 0.011, 0.022, 0.115, 0.013, 0.005],\n",
       "       [0.016, 0.01 , 0.016, 0.013, 0.08 , 0.008],\n",
       "       [0.006, 0.008, 0.017, 0.005, 0.008, 0.065]])"
      ]
     },
     "execution_count": 15,
     "metadata": {},
     "output_type": "execute_result"
    }
   ],
   "source": [
    "A0[np.ix_(tpx_idx0, tpx_idx0)].round(3)"
   ]
  },
  {
   "cell_type": "markdown",
   "metadata": {},
   "source": [
    "## Can we recover $F, A$ with the right anchor-words, but with poor $\\hat{C}$?"
   ]
  },
  {
   "cell_type": "code",
   "execution_count": 16,
   "metadata": {
    "collapsed": true
   },
   "outputs": [
    {
     "name": "stdout",
     "output_type": "stream",
     "text": [
      "[inference.recoverB] Start recovering the object-cluster B...\n",
      "  - 0-th member...\n",
      "  - 500-th member...\n",
      "  - 1000-th member...\n",
      "  - 1500-th member...\n",
      "  - 2000-th member...\n",
      "  - 2500-th member...\n",
      "  - 3000-th member...\n",
      "  - 3500-th member...\n",
      "  - 4000-th member...\n",
      "  - 4500-th member...\n",
      "  - 5000-th member...\n",
      "  - 5500-th member...\n",
      "  - 6000-th member...\n",
      "  - 6500-th member...\n",
      "  - 7000-th member...\n",
      "  - 7500-th member...\n",
      "  - 8000-th member...\n",
      "+ Finish recovering B matrix using [activeSet]\n",
      "  - 6/8382 objects are converged.\n",
      "  - loss = 2.3692 (By Frobenius norm).\n",
      "  - Elapsed time = 8.1149 seconds.\n",
      "\n"
     ]
    },
    {
     "data": {
      "text/plain": [
       "array([2, 2, 2, 2, 2, 2])"
      ]
     },
     "execution_count": 16,
     "metadata": {},
     "output_type": "execute_result"
    }
   ],
   "source": [
    "C_ = Crec\n",
    "C_rowSums = C_.sum(axis = 1)\n",
    "Cbar = C_/C_rowSums[:,None]\n",
    "Bhat, _, _ = recoverB(Cbar, C_rowSums, S0, \"activeSet\")\n",
    "\n",
    "match_topics(F, Bhat).astype(int)"
   ]
  },
  {
   "cell_type": "markdown",
   "metadata": {},
   "source": [
    "The $\\hat{F}$ is still very bad. "
   ]
  },
  {
   "cell_type": "code",
   "execution_count": 17,
   "metadata": {
    "collapsed": true
   },
   "outputs": [
    {
     "data": {
      "image/png": "[encoded data removed]",
      "text/plain": [
       "<Figure size 432x288 with 1 Axes>"
      ]
     },
     "metadata": {
      "needs_background": "light"
     },
     "output_type": "display_data"
    }
   ],
   "source": [
    "plt.scatter(np.log10(Ctrue[S0,:]).flatten(), \n",
    "           np.log10(Crec[S0,:]).flatten())\n",
    "plt.xlabel(\"log10(Ctrue[S0,:])\")\n",
    "plt.ylabel(\"log10(Crec[S0,:])\")\n",
    "plt.show()"
   ]
  },
  {
   "cell_type": "code",
   "execution_count": 18,
   "metadata": {
    "collapsed": true
   },
   "outputs": [
    {
     "name": "stderr",
     "output_type": "stream",
     "text": [
      "/Users/ontheroad/opt/anaconda3/lib/python3.7/site-packages/ipykernel_launcher.py:2: RuntimeWarning: divide by zero encountered in log10\n",
      "  \n"
     ]
    },
    {
     "data": {
      "image/png": "[encoded data removed]",
      "text/plain": [
       "<Figure size 432x288 with 1 Axes>"
      ]
     },
     "metadata": {
      "needs_background": "light"
     },
     "output_type": "display_data"
    }
   ],
   "source": [
    "plt.scatter(np.log10(Ctrue[S0,:]).flatten(), \n",
    "           np.log10(Crough[S0,:]).flatten())\n",
    "plt.xlabel(\"log10(Ctrue[S0,:])\")\n",
    "plt.ylabel(\"log10(Crough[S0,:])\")\n",
    "plt.show()"
   ]
  },
  {
   "cell_type": "code",
   "execution_count": 19,
   "metadata": {
    "collapsed": true
   },
   "outputs": [
    {
     "name": "stdout",
     "output_type": "stream",
     "text": [
      "## frequency of those anchor words\n",
      "[ 66 883 178 136 188 330]\n",
      "## frequency of all words in quantile\n",
      "[  6.  19.  66. 131. 483.]\n"
     ]
    }
   ],
   "source": [
    "print(\"## frequency of those anchor words\")\n",
    "print(X.toarray()[:,S0].sum(axis = 0))\n",
    "print(\"## frequency of all words in quantile\")\n",
    "print(np.quantile(a = X.toarray().sum(axis = 0), q = np.array([0.5, 0.75, 0.9, 0.95, 0.99])))"
   ]
  },
  {
   "cell_type": "markdown",
   "metadata": {},
   "source": [
    "* Even though the true anchor words appear rather frequently, the rest of the vocabulary have so many iunfrequent words.\n",
    "\n",
    "* Since $C_{ij} = Pr(X_1 = i, X_2 = j)$, we expect most entries to be estimated very poorly, because at least one of $X_1, X_2$ are very very rare. \n",
    "\n",
    "* No wonder the authors' original codes emphasize pre-processing vocabulary. "
   ]
  },
  {
   "cell_type": "markdown",
   "metadata": {},
   "source": [
    "## Apply anchor-word algo on dataset with stronger signal\n",
    "\n",
    "I increase the document length 3-fold and see how the algorithm performs (use the same $L, F$)"
   ]
  },
  {
   "cell_type": "code",
   "execution_count": 20,
   "metadata": {
    "collapsed": true
   },
   "outputs": [
    {
     "name": "stdout",
     "output_type": "stream",
     "text": [
      "[file.bows2C] Start constructing dense C...\n",
      "- Counting the co-occurrence for each document...\n",
      "+ Finish constructing C and D!\n",
      "  - The sum of all entries = 1.000000\n",
      "  - Elapsed Time = 11.3872 seconds\n",
      "+ Start rectifying C...\n",
      "+ Start alternating projection\n",
      "  - 1-th iteration... (9.444808e-05 / 4.460321e-09)\n",
      "  - 2-th iteration... (1.575090e-07 / 4.460359e-09)\n",
      "  - 3-th iteration... (1.059013e-07 / 4.460400e-09)\n",
      "  - 4-th iteration... (7.866566e-08 / 4.460438e-09)\n",
      "  - 5-th iteration... (6.207659e-08 / 4.460470e-09)\n",
      "  - 6-th iteration... (5.089450e-08 / 4.460499e-09)\n",
      "  - 7-th iteration... (4.293063e-08 / 4.460524e-09)\n",
      "  - 8-th iteration... (3.702061e-08 / 4.460546e-09)\n",
      "  - 9-th iteration... (3.246797e-08 / 4.460567e-09)\n",
      "  - 10-th iteration... (2.889322e-08 / 4.460585e-09)\n",
      "  - 11-th iteration... (2.602137e-08 / 4.460602e-09)\n",
      "  - 12-th iteration... (2.365883e-08 / 4.460618e-09)\n",
      "  - 13-th iteration... (2.168444e-08 / 4.460632e-09)\n",
      "  - 14-th iteration... (2.002681e-08 / 4.460646e-09)\n",
      "  - 15-th iteration... (1.861875e-08 / 4.460659e-09)\n",
      "+ Finish alternating projection\n",
      "  - Elapsed seconds = 70.9978\n",
      "\n",
      "  - Finish rectifying C! [70.997759]\n",
      "+ Start finding the set of anchor bases S...\n",
      "[inference.findS] Start finding the set of anchor bases S...\n",
      "+ Finish finding set S!\n",
      "  - Discovered 6 basis vectors by [sparsePartial] method.\n",
      "  - Elapsed time = 2.2642 seconds\n",
      "\n",
      "  - Finish finding S! [2.264192]\n",
      "+ Start recovering the object-cluster B...\n",
      "[inference.recoverB] Start recovering the object-cluster B...\n",
      "  - 0-th member...\n",
      "  - 500-th member...\n",
      "  - 1000-th member...\n",
      "  - 1500-th member...\n",
      "  - 2000-th member...\n",
      "  - 2500-th member...\n",
      "  - 3000-th member...\n",
      "  - 3500-th member...\n",
      "  - 4000-th member...\n",
      "  - 4500-th member...\n",
      "  - 5000-th member...\n",
      "  - 5500-th member...\n",
      "  - 6000-th member...\n",
      "  - 6500-th member...\n",
      "  - 7000-th member...\n",
      "  - 7500-th member...\n",
      "  - 8000-th member...\n",
      "+ Finish recovering B matrix using [activeSet]\n",
      "  - 6/8378 objects are converged.\n",
      "  - loss = 5.1229 (By Frobenius norm).\n",
      "  - Elapsed time = 18.1640 seconds.\n",
      "\n",
      "  - Finish recovering B! [18.163961]\n",
      "+ Start recovering the cluster-cluster A...\n",
      "[inference.recoverA] Start recovering the cluster-cluster A...\n",
      "+ Finish recovering A!\n",
      "  - [diagonal] recovery is used.\n",
      "  - Elapsed time = 0.0006 seconds.\n",
      "\n",
      "  - Finish recovering A! [0.000609]\n",
      "- Finish factorizing C! [92.424168]\n"
     ]
    }
   ],
   "source": [
    "np.random.seed(123)\n",
    "Xnew,w_idct, F = simulate_multinomial_counts(L, F, 3*X.sum(axis = 1))\n",
    "Xnew = sparse.coo_matrix(Xnew)\n",
    "\n",
    "Cnew, _, _ = X2C(Xnew)\n",
    "Snew, Bnew, Anew, _, _, _, _, Cnew = factorizeC(Cnew, K=k, rectifier='AP', optimizer='activeSet')"
   ]
  },
  {
   "cell_type": "code",
   "execution_count": 21,
   "metadata": {
    "collapsed": true
   },
   "outputs": [
    {
     "name": "stdout",
     "output_type": "stream",
     "text": [
      "+ Start rectifying C...\n",
      "  - Finish rectifying C! [0.000000]\n",
      "+ Start finding the set of anchor bases S...\n",
      "[inference.findS] Start finding the set of anchor bases S...\n",
      "+ Finish finding set S!\n",
      "  - Discovered 6 basis vectors by [sparsePartial] method.\n",
      "  - Elapsed time = 2.3704 seconds\n",
      "\n",
      "  - Finish finding S! [2.370379]\n",
      "+ Start recovering the object-cluster B...\n",
      "[inference.recoverB] Start recovering the object-cluster B...\n",
      "  - 0-th member...\n",
      "  - 500-th member...\n",
      "  - 1000-th member...\n",
      "  - 1500-th member...\n",
      "  - 2000-th member...\n",
      "  - 2500-th member...\n",
      "  - 3000-th member...\n",
      "  - 3500-th member...\n",
      "  - 4000-th member...\n",
      "  - 4500-th member...\n",
      "  - 5000-th member...\n",
      "  - 5500-th member...\n",
      "  - 6000-th member...\n",
      "  - 6500-th member...\n",
      "  - 7000-th member...\n",
      "  - 7500-th member...\n",
      "  - 8000-th member...\n",
      "+ Finish recovering B matrix using [activeSet]\n",
      "  - 6/8378 objects are converged.\n",
      "  - loss = 5.0891 (By Frobenius norm).\n",
      "  - Elapsed time = 17.4810 seconds.\n",
      "\n",
      "  - Finish recovering B! [17.480969]\n",
      "+ Start recovering the cluster-cluster A...\n",
      "[inference.recoverA] Start recovering the cluster-cluster A...\n",
      "+ Finish recovering A!\n",
      "  - [diagonal] recovery is used.\n",
      "  - Elapsed time = 0.0003 seconds.\n",
      "\n",
      "  - Finish recovering A! [0.000288]\n",
      "- Finish factorizing C! [20.675708]\n"
     ]
    }
   ],
   "source": [
    "Ctrue_new = F @ L.T\n",
    "Ctrue_new = Ctrue_new @ Ctrue_new.T\n",
    "Ctrue_new = Ctrue_new/Ctrue_new.sum()\n",
    "\n",
    "Snew0, Bnew0, Anew0, _, _, _, _, _ = factorizeC(Ctrue_new, K=k, rectifier='no', optimizer='activeSet')\n"
   ]
  },
  {
   "cell_type": "code",
   "execution_count": 22,
   "metadata": {
    "collapsed": true
   },
   "outputs": [
    {
     "name": "stdout",
     "output_type": "stream",
     "text": [
      "[2 1 0 4 3 5]\n",
      "[2 1 0 4 5 3]\n"
     ]
    }
   ],
   "source": [
    "tpx_idxnew = match_topics(F, Bnew).astype(int)\n",
    "tpx_idxnew0 = match_topics(F, Bnew0).astype(int)\n",
    "\n",
    "print(tpx_idxnew)\n",
    "print(tpx_idxnew0)"
   ]
  },
  {
   "cell_type": "code",
   "execution_count": 23,
   "metadata": {
    "collapsed": true
   },
   "outputs": [
    {
     "data": {
      "image/png": "[encoded data removed]",
      "text/plain": [
       "<Figure size 432x288 with 1 Axes>"
      ]
     },
     "metadata": {
      "needs_background": "light"
     },
     "output_type": "display_data"
    },
    {
     "data": {
      "image/png": "[encoded data removed]",
      "text/plain": [
       "<Figure size 432x288 with 1 Axes>"
      ]
     },
     "metadata": {
      "needs_background": "light"
     },
     "output_type": "display_data"
    },
    {
     "data": {
      "image/png": "[encoded data removed]",
      "text/plain": [
       "<Figure size 432x288 with 1 Axes>"
      ]
     },
     "metadata": {
      "needs_background": "light"
     },
     "output_type": "display_data"
    },
    {
     "data": {
      "image/png": "[encoded data removed]",
      "text/plain": [
       "<Figure size 432x288 with 1 Axes>"
      ]
     },
     "metadata": {
      "needs_background": "light"
     },
     "output_type": "display_data"
    },
    {
     "data": {
      "image/png": "[encoded data removed]",
      "text/plain": [
       "<Figure size 432x288 with 1 Axes>"
      ]
     },
     "metadata": {
      "needs_background": "light"
     },
     "output_type": "display_data"
    },
    {
     "data": {
      "image/png": "[encoded data removed]",
      "text/plain": [
       "<Figure size 432x288 with 1 Axes>"
      ]
     },
     "metadata": {
      "needs_background": "light"
     },
     "output_type": "display_data"
    }
   ],
   "source": [
    "for i in range(k):\n",
    "    plt.scatter(F[:, i], Bnew[:, tpx_idxnew[i]])\n",
    "    plt.xlabel(\"f\")\n",
    "    plt.ylabel(\"fhat\")\n",
    "    plt.title(f\"topic {i + 1}\")\n",
    "    plt.show()"
   ]
  },
  {
   "cell_type": "code",
   "execution_count": 24,
   "metadata": {
    "collapsed": true
   },
   "outputs": [
    {
     "name": "stdout",
     "output_type": "stream",
     "text": [
      "[6914 4485 1201 4968 1272 2309]\n",
      "[5821 7567 4660 4085 7109 1021]\n"
     ]
    }
   ],
   "source": [
    "print(Snew[tpx_idxnew])\n",
    "print(Snew0[tpx_idx0])"
   ]
  },
  {
   "cell_type": "code",
   "execution_count": 25,
   "metadata": {
    "collapsed": true
   },
   "outputs": [
    {
     "data": {
      "text/plain": [
       "array([[4.e-05, 0.e+00, 0.e+00, 0.e+00, 0.e+00, 0.e+00],\n",
       "       [0.e+00, 5.e-05, 0.e+00, 0.e+00, 0.e+00, 0.e+00],\n",
       "       [0.e+00, 0.e+00, 8.e-05, 0.e+00, 0.e+00, 0.e+00],\n",
       "       [0.e+00, 0.e+00, 0.e+00, 4.e-05, 0.e+00, 0.e+00],\n",
       "       [0.e+00, 0.e+00, 0.e+00, 0.e+00, 2.e-05, 3.e-05],\n",
       "       [0.e+00, 0.e+00, 0.e+00, 0.e+00, 0.e+00, 5.e-05]])"
      ]
     },
     "execution_count": 25,
     "metadata": {},
     "output_type": "execute_result"
    }
   ],
   "source": [
    "F[Snew[tpx_idxnew],].round(5)"
   ]
  },
  {
   "cell_type": "code",
   "execution_count": 26,
   "metadata": {
    "collapsed": true
   },
   "outputs": [
    {
     "data": {
      "text/plain": [
       "array([[4.e-05, 0.e+00, 0.e+00, 0.e+00, 0.e+00, 0.e+00],\n",
       "       [0.e+00, 2.e-05, 0.e+00, 0.e+00, 0.e+00, 0.e+00],\n",
       "       [0.e+00, 0.e+00, 5.e-05, 0.e+00, 0.e+00, 0.e+00],\n",
       "       [0.e+00, 0.e+00, 0.e+00, 1.e-05, 0.e+00, 0.e+00],\n",
       "       [0.e+00, 0.e+00, 0.e+00, 0.e+00, 1.e-05, 0.e+00],\n",
       "       [0.e+00, 0.e+00, 0.e+00, 0.e+00, 0.e+00, 3.e-05]])"
      ]
     },
     "execution_count": 26,
     "metadata": {},
     "output_type": "execute_result"
    }
   ],
   "source": [
    "Bnew[np.ix_(Snew[tpx_idxnew], tpx_idxnew)].round(5)"
   ]
  },
  {
   "cell_type": "markdown",
   "metadata": {},
   "source": [
    "The identified anchor words do not all satisfy the assumption. Still, the diagonal elements are okay. "
   ]
  },
  {
   "cell_type": "code",
   "execution_count": 27,
   "metadata": {
    "collapsed": true
   },
   "outputs": [
    {
     "data": {
      "text/plain": [
       "array([[0.136, 0.018, 0.024, 0.017, 0.022, 0.016],\n",
       "       [0.018, 0.084, 0.014, 0.008, 0.011, 0.01 ],\n",
       "       [0.024, 0.014, 0.109, 0.006, 0.018, 0.016],\n",
       "       [0.017, 0.008, 0.006, 0.065, 0.005, 0.008],\n",
       "       [0.022, 0.011, 0.018, 0.005, 0.115, 0.013],\n",
       "       [0.016, 0.01 , 0.016, 0.008, 0.013, 0.08 ]])"
      ]
     },
     "execution_count": 27,
     "metadata": {},
     "output_type": "execute_result"
    }
   ],
   "source": [
    "Anew0.round(3)"
   ]
  },
  {
   "cell_type": "code",
   "execution_count": 28,
   "metadata": {
    "collapsed": true
   },
   "outputs": [
    {
     "data": {
      "text/plain": [
       "array([[0.245, 0.   , 0.   , 0.   , 0.   , 0.006],\n",
       "       [0.   , 0.172, 0.   , 0.   , 0.   , 0.   ],\n",
       "       [0.   , 0.   , 0.406, 0.   , 0.   , 0.   ],\n",
       "       [0.   , 0.   , 0.   , 0.262, 0.   , 0.   ],\n",
       "       [0.   , 0.   , 0.   , 0.   , 0.211, 0.   ],\n",
       "       [0.006, 0.   , 0.   , 0.   , 0.   , 0.128]])"
      ]
     },
     "execution_count": 28,
     "metadata": {},
     "output_type": "execute_result"
    }
   ],
   "source": [
    "Anew[np.ix_(tpx_idxnew, tpx_idxnew)].round(3)"
   ]
  },
  {
   "cell_type": "markdown",
   "metadata": {},
   "source": [
    "The estimated $\\hat{A}$ is also not good. If we use $\\hat{F}$ to estimate $L$, I expect the estimate to be poor.  "
   ]
  },
  {
   "cell_type": "markdown",
   "metadata": {},
   "source": [
    "Look at $\\hat{C}$ (after rectifying)"
   ]
  },
  {
   "cell_type": "code",
   "execution_count": 29,
   "metadata": {
    "collapsed": true
   },
   "outputs": [
    {
     "name": "stderr",
     "output_type": "stream",
     "text": [
      "/Users/ontheroad/opt/anaconda3/lib/python3.7/site-packages/ipykernel_launcher.py:2: RuntimeWarning: divide by zero encountered in log10\n",
      "  \n"
     ]
    },
    {
     "data": {
      "image/png": "[encoded data removed]",
      "text/plain": [
       "<Figure size 432x288 with 1 Axes>"
      ]
     },
     "metadata": {
      "needs_background": "light"
     },
     "output_type": "display_data"
    }
   ],
   "source": [
    "plt.scatter(np.log10(Ctrue_new[Snew0[tpx_idxnew0],:]).flatten(),\n",
    "           np.log10(Cnew[Snew[tpx_idxnew],:]).flatten())\n",
    "plt.xlabel(\"log10(Ctrue_new[Snew0,:])\")\n",
    "plt.ylabel(\"log10(Cnew[Snew,:])\")\n",
    "plt.show()"
   ]
  },
  {
   "cell_type": "code",
   "execution_count": 30,
   "metadata": {
    "collapsed": true
   },
   "outputs": [
    {
     "name": "stderr",
     "output_type": "stream",
     "text": [
      "/Users/ontheroad/opt/anaconda3/lib/python3.7/site-packages/ipykernel_launcher.py:2: RuntimeWarning: divide by zero encountered in log10\n",
      "  \n"
     ]
    },
    {
     "data": {
      "image/png": "[encoded data removed]",
      "text/plain": [
       "<Figure size 432x288 with 1 Axes>"
      ]
     },
     "metadata": {
      "needs_background": "light"
     },
     "output_type": "display_data"
    }
   ],
   "source": [
    "plt.scatter(np.log10(Ctrue_new[Snew0,:]).flatten(),\n",
    "           np.log10(Cnew[Snew0,:]).flatten())\n",
    "plt.xlabel(\"log10(Ctrue_new[Snew0,:])\")\n",
    "plt.ylabel(\"log10(Cnew[Snew0,:])\")\n",
    "plt.show()"
   ]
  },
  {
   "cell_type": "markdown",
   "metadata": {},
   "source": [
    "$\\hat{C}$ is still bad for smaller elements. However, when it's good for larger elements, it seems enough to get a good estimate of $F$. "
   ]
  }
 ],
 "metadata": {
  "kernelspec": {
   "display_name": "Python 3",
   "language": "python",
   "name": "python3"
  },
  "language_info": {
   "codemirror_mode": {
    "name": "ipython",
    "version": 3
   },
   "file_extension": ".py",
   "mimetype": "text/x-python",
   "name": "python",
   "nbconvert_exporter": "python",
   "pygments_lexer": "ipython3",
   "version": "3.7.6"
  }
 },
 "nbformat": 4,
 "nbformat_minor": 4
}
