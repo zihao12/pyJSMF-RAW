{
 "cells": [
  {
   "cell_type": "markdown",
   "metadata": {},
   "source": [
    "## Goal\n",
    "\n",
    "In practice people remove words that \"don't contain much information\", like the most/least frequent words. This is claimed to get better models (topics make more sense). Also in [previous experiment](https://github.com/zihao12/pyJSMF-RAW/blob/master/experiments/sla_multinomial1.ipynb), we can see estimation of the high dimensional $C$ can be a challenge, and poor estimation on those possibly un-important coordinates lead to bad estimate of $F, A$. Here I want to use simulation to see if it's indeed the case. \n",
    "\n",
    "## Setting\n",
    "\n",
    "There are $5000$ words in the dictionary but only the first $80$ words contain structural information. I use datasets $X, X_{\\text{small}, X_{\\text{mid}}$, where $X$ is the full data, $X_{\\text{small}$ contain exactly that $80$ words and $X_{\\text{mid}$ contains the first $500$ words. Then I compare estimated topic-topic matrix $A$\n",
    "\n",
    "## Result\n",
    "Not surprising the result (bigger the better ) $X < X_{\\text{mid}, X_{\\text{small}}$. In fact, using $X$ ignores the correlation among topics (why is that?)\n",
    "\n",
    "## Thoughts\n",
    "Removing words in an ad hoc way is not optimal. But it shows the potential benefits if we can impose the assumption that most words are background words in estimating $C$ (so $C$'s \"effective dimension\" is reduced). "
   ]
  },
  {
   "cell_type": "code",
   "execution_count": 1,
   "metadata": {},
   "outputs": [],
   "source": [
    "import os\n",
    "import sys\n",
    "import pandas as pd\n",
    "from scipy import sparse\n",
    "\n",
    "import numpy as np\n",
    "import matplotlib.pyplot as plt\n",
    "\n",
    "script_dir = \"../\"\n",
    "sys.path.append(os.path.abspath(script_dir))\n",
    "from file2 import *\n",
    "from factorize import *\n",
    "from smallsim_functions4 import *\n",
    "from misc import *\n",
    "\n",
    "\n",
    "np.random.seed(123)"
   ]
  },
  {
   "cell_type": "code",
   "execution_count": 2,
   "metadata": {},
   "outputs": [],
   "source": [
    "n = 1000\n",
    "p = 5000\n",
    "k = 4\n",
    "doc_len = 100\n",
    "\n",
    "X, Atrue, Ftrue, p0 = smallsim_independent(n = n, p = p, k = k, doc_len = doc_len)\n",
    "\n",
    "Xsmall = X[:,:p0]\n",
    "Xmid = X[:,:500]\n",
    "\n",
    "w_idx = np.where(X.sum(axis = 0) > 0)[0]\n",
    "X = X[:,w_idx]\n",
    "\n",
    "w_idx_small = np.where(Xsmall.sum(axis = 0) > 0)[0]\n",
    "Xsmall = Xsmall[:,w_idx_small]\n",
    "\n",
    "w_idx_mid = np.where(Xmid.sum(axis = 0) > 0)[0]\n",
    "Xmid = Xmid[:,w_idx_mid]"
   ]
  },
  {
   "cell_type": "markdown",
   "metadata": {},
   "source": [
    "## Fit with $X$"
   ]
  },
  {
   "cell_type": "code",
   "execution_count": 3,
   "metadata": {},
   "outputs": [
    {
     "name": "stdout",
     "output_type": "stream",
     "text": [
      "[file.bows2C] Start constructing dense C...\n",
      "- Counting the co-occurrence for each document...\n",
      "+ Finish constructing C and D!\n",
      "  - The sum of all entries = 1.000000\n",
      "  - Elapsed Time = 0.8630 seconds\n",
      "+ Start rectifying C...\n",
      "+ Start alternating projection\n",
      "  - 1-th iteration... (3.108002e-04 / 4.829844e-08)\n",
      "  - 2-th iteration... (1.651053e-07 / 4.829848e-08)\n",
      "  - 3-th iteration... (1.218360e-07 / 4.829853e-08)\n",
      "  - 4-th iteration... (9.207829e-08 / 4.829858e-08)\n",
      "  - 5-th iteration... (7.075159e-08 / 4.829862e-08)\n",
      "  - 6-th iteration... (5.529315e-08 / 4.829866e-08)\n",
      "  - 7-th iteration... (4.404138e-08 / 4.829869e-08)\n",
      "  - 8-th iteration... (3.593319e-08 / 4.829871e-08)\n",
      "  - 9-th iteration... (3.011415e-08 / 4.829873e-08)\n",
      "  - 10-th iteration... (2.592578e-08 / 4.829875e-08)\n",
      "  - 11-th iteration... (2.287429e-08 / 4.829877e-08)\n",
      "  - 12-th iteration... (2.059198e-08 / 4.829878e-08)\n",
      "  - 13-th iteration... (1.883374e-08 / 4.829879e-08)\n",
      "  - 14-th iteration... (1.744964e-08 / 4.829881e-08)\n",
      "  - 15-th iteration... (1.633416e-08 / 4.829882e-08)\n",
      "+ Finish alternating projection\n",
      "  - Elapsed seconds = 22.5695\n",
      "\n",
      "  - Finish rectifying C! [22.569533]\n",
      "+ Start finding the set of anchor bases S...\n",
      "[inference.findS] Start finding the set of anchor bases S...\n",
      "+ Finish finding set S!\n",
      "  - Discovered 4 basis vectors by [sparsePartial] method.\n",
      "  - Elapsed time = 0.5669 seconds\n",
      "\n",
      "  - Finish finding S! [0.566906]\n",
      "+ Start recovering the object-cluster B...\n",
      "[inference.recoverB] Start recovering the object-cluster B...\n",
      "  - 0-th member...\n",
      "  - 500-th member...\n",
      "  - 1000-th member...\n",
      "  - 1500-th member...\n",
      "  - 2000-th member...\n",
      "  - 2500-th member...\n",
      "  - 3000-th member...\n",
      "  - 3500-th member...\n",
      "  - 4000-th member...\n",
      "  - 4500-th member...\n",
      "+ Finish recovering B matrix using [activeSet]\n",
      "  - 4/4998 objects are converged.\n",
      "  - loss = 4.1445 (By Frobenius norm).\n",
      "  - Elapsed time = 6.3035 seconds.\n",
      "\n",
      "  - Finish recovering B! [6.303475]\n",
      "+ Start recovering the cluster-cluster A...\n",
      "[inference.recoverA] Start recovering the cluster-cluster A...\n",
      "+ Finish recovering A!\n",
      "  - [diagonal] recovery is used.\n",
      "  - Elapsed time = 0.0004 seconds.\n",
      "\n",
      "  - Finish recovering A! [0.000440]\n",
      "- Finish factorizing C! [29.810968]\n"
     ]
    }
   ],
   "source": [
    "C, _, _ = X2C(sparse.coo_matrix(X))\n",
    "S, B, A, Btilde, Cbar, C_rowSums, diagR, C = factorizeC(C, K=k, rectifier='AP', optimizer='activeSet')\n"
   ]
  },
  {
   "cell_type": "code",
   "execution_count": 4,
   "metadata": {},
   "outputs": [
    {
     "data": {
      "text/plain": [
       "array([[0.17, 0.03, 0.02, 0.02],\n",
       "       [0.03, 0.19, 0.02, 0.02],\n",
       "       [0.02, 0.02, 0.18, 0.02],\n",
       "       [0.02, 0.02, 0.02, 0.18]])"
      ]
     },
     "execution_count": 4,
     "metadata": {},
     "output_type": "execute_result"
    }
   ],
   "source": [
    "Atrue.round(2)"
   ]
  },
  {
   "cell_type": "code",
   "execution_count": 5,
   "metadata": {},
   "outputs": [
    {
     "data": {
      "text/plain": [
       "array([[0.32, 0.  , 0.  , 0.  ],\n",
       "       [0.  , 0.29, 0.  , 0.  ],\n",
       "       [0.  , 0.  , 0.3 , 0.  ],\n",
       "       [0.  , 0.  , 0.  , 0.3 ]])"
      ]
     },
     "execution_count": 5,
     "metadata": {},
     "output_type": "execute_result"
    }
   ],
   "source": [
    "A.round(2)"
   ]
  },
  {
   "cell_type": "markdown",
   "metadata": {},
   "source": [
    "## Fit with $X_{\\text{small}}$"
   ]
  },
  {
   "cell_type": "code",
   "execution_count": 6,
   "metadata": {},
   "outputs": [
    {
     "name": "stdout",
     "output_type": "stream",
     "text": [
      "[file.bows2C] Start constructing dense C...\n",
      "- Counting the co-occurrence for each document...\n",
      "+ Finish constructing C and D!\n",
      "  - The sum of all entries = 1.000000\n",
      "  - Elapsed Time = 0.0924 seconds\n",
      "+ Start rectifying C...\n",
      "+ Start alternating projection\n",
      "  - 1-th iteration... (1.034361e-03 / 5.349512e-07)\n",
      "  - 2-th iteration... (1.577341e-07 / 5.349518e-07)\n",
      "  - 3-th iteration... (5.533484e-09 / 5.349519e-07)\n",
      "  - 4-th iteration... (1.941216e-10 / 5.349519e-07)\n",
      "  - 5-th iteration... (6.810031e-12 / 5.349519e-07)\n",
      "  - 6-th iteration... (2.389036e-13 / 5.349519e-07)\n",
      "  - 7-th iteration... (8.382330e-15 / 5.349519e-07)\n",
      "  - 8-th iteration... (2.940625e-16 / 5.349519e-07)\n",
      "  - 9-th iteration... (1.558816e-17 / 5.349519e-07)\n",
      "  - 10-th iteration... (1.129429e-17 / 5.349519e-07)\n",
      "  - 11-th iteration... (1.541077e-17 / 5.349519e-07)\n",
      "  - 12-th iteration... (1.410298e-17 / 5.349519e-07)\n",
      "  - 13-th iteration... (1.048977e-17 / 5.349519e-07)\n",
      "  - 14-th iteration... (1.011943e-17 / 5.349519e-07)\n",
      "  - 15-th iteration... (1.121755e-17 / 5.349519e-07)\n",
      "+ Finish alternating projection\n",
      "  - Elapsed seconds = 0.0206\n",
      "\n",
      "  - Finish rectifying C! [0.020606]\n",
      "+ Start finding the set of anchor bases S...\n",
      "[inference.findS] Start finding the set of anchor bases S...\n",
      "+ Finish finding set S!\n",
      "  - Discovered 4 basis vectors by [sparsePartial] method.\n",
      "  - Elapsed time = 0.0009 seconds\n",
      "\n",
      "  - Finish finding S! [0.000900]\n",
      "+ Start recovering the object-cluster B...\n",
      "[inference.recoverB] Start recovering the object-cluster B...\n",
      "  - 0-th member...\n",
      "+ Finish recovering B matrix using [activeSet]\n",
      "  - 4/80 objects are converged.\n",
      "  - loss = 0.9528 (By Frobenius norm).\n",
      "  - Elapsed time = 0.0906 seconds.\n",
      "\n",
      "  - Finish recovering B! [0.090623]\n",
      "+ Start recovering the cluster-cluster A...\n",
      "[inference.recoverA] Start recovering the cluster-cluster A...\n",
      "+ Finish recovering A!\n",
      "  - [diagonal] recovery is used.\n",
      "  - Elapsed time = 0.0002 seconds.\n",
      "\n",
      "  - Finish recovering A! [0.000190]\n",
      "- Finish factorizing C! [0.114653]\n"
     ]
    }
   ],
   "source": [
    "Csmall, _, _ = X2C(sparse.coo_matrix(Xsmall))\n",
    "Ssmall, Bsmall, Asmall, _, _, _, _, Csmall = factorizeC(Csmall, K=k, rectifier='AP', optimizer='activeSet')"
   ]
  },
  {
   "cell_type": "markdown",
   "metadata": {},
   "source": [
    "## Fit with $X_{\\text{mid}}$"
   ]
  },
  {
   "cell_type": "code",
   "execution_count": 7,
   "metadata": {},
   "outputs": [
    {
     "name": "stdout",
     "output_type": "stream",
     "text": [
      "[file.bows2C] Start constructing dense C...\n",
      "- Counting the co-occurrence for each document...\n",
      "+ Finish constructing C and D!\n",
      "  - The sum of all entries = 1.000000\n",
      "  - Elapsed Time = 0.1075 seconds\n",
      "+ Start rectifying C...\n",
      "+ Start alternating projection\n",
      "  - 1-th iteration... (8.616572e-04 / 3.712268e-07)\n",
      "  - 2-th iteration... (1.922946e-07 / 3.712268e-07)\n",
      "  - 3-th iteration... (1.457203e-07 / 3.712269e-07)\n",
      "  - 4-th iteration... (1.192272e-07 / 3.712270e-07)\n",
      "  - 5-th iteration... (1.003734e-07 / 3.712270e-07)\n",
      "  - 6-th iteration... (8.669674e-08 / 3.712271e-07)\n",
      "  - 7-th iteration... (7.555509e-08 / 3.712272e-07)\n",
      "  - 8-th iteration... (6.697047e-08 / 3.712272e-07)\n",
      "  - 9-th iteration... (6.052318e-08 / 3.712273e-07)\n",
      "  - 10-th iteration... (5.520723e-08 / 3.712273e-07)\n",
      "  - 11-th iteration... (5.071830e-08 / 3.712274e-07)\n",
      "  - 12-th iteration... (4.683560e-08 / 3.712274e-07)\n",
      "  - 13-th iteration... (4.344543e-08 / 3.712275e-07)\n",
      "  - 14-th iteration... (4.045788e-08 / 3.712275e-07)\n",
      "  - 15-th iteration... (3.780115e-08 / 3.712276e-07)\n",
      "+ Finish alternating projection\n",
      "  - Elapsed seconds = 0.0977\n",
      "\n",
      "  - Finish rectifying C! [0.097710]\n",
      "+ Start finding the set of anchor bases S...\n",
      "[inference.findS] Start finding the set of anchor bases S...\n",
      "+ Finish finding set S!\n",
      "  - Discovered 4 basis vectors by [sparsePartial] method.\n",
      "  - Elapsed time = 0.0014 seconds\n",
      "\n",
      "  - Finish finding S! [0.001373]\n",
      "+ Start recovering the object-cluster B...\n",
      "[inference.recoverB] Start recovering the object-cluster B...\n",
      "  - 0-th member...\n",
      "+ Finish recovering B matrix using [activeSet]\n",
      "  - 4/500 objects are converged.\n",
      "  - loss = 3.3937 (By Frobenius norm).\n",
      "  - Elapsed time = 0.5471 seconds.\n",
      "\n",
      "  - Finish recovering B! [0.547073]\n",
      "+ Start recovering the cluster-cluster A...\n",
      "[inference.recoverA] Start recovering the cluster-cluster A...\n",
      "+ Finish recovering A!\n",
      "  - [diagonal] recovery is used.\n",
      "  - Elapsed time = 0.0003 seconds.\n",
      "\n",
      "  - Finish recovering A! [0.000277]\n",
      "- Finish factorizing C! [0.648904]\n"
     ]
    }
   ],
   "source": [
    "Cmid, _, _ = X2C(sparse.coo_matrix(Xmid))\n",
    "Smid, Bmid, Amid, _, _, _, _, Cmid = factorizeC(Cmid, K=k, rectifier='AP', optimizer='activeSet')"
   ]
  },
  {
   "cell_type": "markdown",
   "metadata": {},
   "source": [
    "## Compare estimation of $A$"
   ]
  },
  {
   "cell_type": "code",
   "execution_count": 8,
   "metadata": {},
   "outputs": [
    {
     "name": "stdout",
     "output_type": "stream",
     "text": [
      "[[0.17 0.03 0.02 0.02]\n",
      " [0.03 0.19 0.02 0.02]\n",
      " [0.02 0.02 0.18 0.02]\n",
      " [0.02 0.02 0.02 0.18]]\n",
      "[0.24 0.26 0.25 0.25]\n"
     ]
    }
   ],
   "source": [
    "print(Atrue.round(2))\n",
    "print(Atrue.sum(axis = 0).round(2))"
   ]
  },
  {
   "cell_type": "code",
   "execution_count": 9,
   "metadata": {},
   "outputs": [
    {
     "name": "stdout",
     "output_type": "stream",
     "text": [
      "[[0.32 0.   0.   0.  ]\n",
      " [0.   0.29 0.   0.  ]\n",
      " [0.   0.   0.3  0.  ]\n",
      " [0.   0.   0.   0.3 ]]\n",
      "[0.32 0.29 0.3  0.3 ]\n"
     ]
    }
   ],
   "source": [
    "print(A.round(2))\n",
    "print(A.sum(axis = 0).round(2))"
   ]
  },
  {
   "cell_type": "code",
   "execution_count": 10,
   "metadata": {},
   "outputs": [
    {
     "name": "stdout",
     "output_type": "stream",
     "text": [
      "[[0.18 0.   0.01 0.  ]\n",
      " [0.   0.21 0.   0.03]\n",
      " [0.01 0.   0.29 0.01]\n",
      " [0.   0.03 0.01 0.22]]\n",
      "[0.19 0.24 0.31 0.27]\n"
     ]
    }
   ],
   "source": [
    "print(Amid.round(2))\n",
    "print(Amid.sum(axis = 0).round(2))"
   ]
  },
  {
   "cell_type": "code",
   "execution_count": 11,
   "metadata": {},
   "outputs": [
    {
     "name": "stdout",
     "output_type": "stream",
     "text": [
      "[[0.17 0.02 0.02 0.02]\n",
      " [0.02 0.2  0.01 0.02]\n",
      " [0.02 0.01 0.21 0.03]\n",
      " [0.02 0.02 0.03 0.18]]\n",
      "[0.23 0.26 0.27 0.25]\n"
     ]
    }
   ],
   "source": [
    "print(Asmall.round(2))\n",
    "print(Asmall.sum(axis = 0).round(2))"
   ]
  }
 ],
 "metadata": {
  "kernelspec": {
   "display_name": "Python 3",
   "language": "python",
   "name": "python3"
  },
  "language_info": {
   "codemirror_mode": {
    "name": "ipython",
    "version": 3
   },
   "file_extension": ".py",
   "mimetype": "text/x-python",
   "name": "python",
   "nbconvert_exporter": "python",
   "pygments_lexer": "ipython3",
   "version": "3.7.6"
  }
 },
 "nbformat": 4,
 "nbformat_minor": 4
}
