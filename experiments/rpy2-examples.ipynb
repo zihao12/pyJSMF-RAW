{
 "cells": [
  {
   "cell_type": "code",
   "execution_count": 1,
   "metadata": {},
   "outputs": [],
   "source": [
    "import rpy2\n",
    "import rpy2.interactive as r\n",
    "import rpy2.interactive.packages\n",
    "from rpy2.robjects import numpy2ri\n",
    "import numpy as np\n",
    "\n",
    "ebnm = r.packages.importr(\"ebnm\")\n"
   ]
  },
  {
   "cell_type": "code",
   "execution_count": 9,
   "metadata": {},
   "outputs": [
    {
     "data": {
      "text/plain": [
       "array([( 0.21891481, 0.64995381), ( 0.22161349, 0.65042678),\n",
       "       ( 0.30077225, 0.66572478), ( 0.06913717, 0.63130376),\n",
       "       (-1.14667866, 0.79524147), (-0.49269131, 0.70786452),\n",
       "       ( 1.59930533, 0.78943781), ( 0.458446  , 0.7003115 ),\n",
       "       ( 0.58886211, 0.72817124), ( 0.23946921, 0.65364811)],\n",
       "      dtype=(numpy.record, [('mean', '<f8'), ('sd', '<f8')]))"
      ]
     },
     "execution_count": 9,
     "metadata": {},
     "output_type": "execute_result"
    }
   ],
   "source": [
    "x = np.random.normal(size = 10) \n",
    "\n",
    "numpy2ri.activate()\n",
    "fit = ebnm.ebnm(x)\n",
    "np.asarray(fit.rx2('posterior'))"
   ]
  }
 ],
 "metadata": {
  "kernelspec": {
   "display_name": "Python 3",
   "language": "python",
   "name": "python3"
  },
  "language_info": {
   "codemirror_mode": {
    "name": "ipython",
    "version": 3
   },
   "file_extension": ".py",
   "mimetype": "text/x-python",
   "name": "python",
   "nbconvert_exporter": "python",
   "pygments_lexer": "ipython3",
   "version": "3.7.6"
  }
 },
 "nbformat": 4,
 "nbformat_minor": 4
}
