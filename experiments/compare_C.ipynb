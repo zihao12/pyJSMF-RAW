{
 "cells": [
  {
   "cell_type": "code",
   "execution_count": 1,
   "metadata": {},
   "outputs": [],
   "source": [
    "import os\n",
    "import sys\n",
    "from scipy import sparse\n",
    "from scipy import sparse, io\n",
    "import pdb\n",
    "\n",
    "\n",
    "import numpy as np\n",
    "import pickle\n",
    "from sklearn.decomposition import NMF, non_negative_factorization, TruncatedSVD\n",
    "from sklearn.decomposition._nmf import _beta_divergence\n",
    "\n",
    "\n",
    "script_dir = \"../\"\n",
    "sys.path.append(os.path.abspath(script_dir))\n",
    "from factorize import *\n",
    "from misc import *\n",
    "from findK_correction_jk import *"
   ]
  },
  {
   "cell_type": "code",
   "execution_count": 10,
   "metadata": {},
   "outputs": [],
   "source": [
    "def simulate_multinomial_counts_local(L, F, s, seed = 123):\n",
    "    np.random.seed(seed)\n",
    "    n = L.shape[0]\n",
    "    p = F.shape[0]\n",
    "    Prob = L.dot(F.T)\n",
    "    X = np.empty(shape = (n, p))\n",
    "    for i in range(n):\n",
    "        X[i,] = np.random.multinomial(s[i], Prob[i,], size = 1).astype(int)\n",
    "\n",
    "    return X"
   ]
  },
  {
   "cell_type": "code",
   "execution_count": 4,
   "metadata": {},
   "outputs": [],
   "source": [
    "data_dir=\"../dataset/real_bows\"\n",
    "data_name=\"nips\"\n",
    "X = io.mmread(f\"{data_dir}/{data_name}_X.mtx\").astype(float).toarray()\n",
    "C = np.loadtxt(f\"{data_dir}/{data_name}_C.csv\", delimiter=',')"
   ]
  },
  {
   "cell_type": "code",
   "execution_count": 16,
   "metadata": {},
   "outputs": [],
   "source": [
    "%%capture\n",
    "\n",
    "k = 6\n",
    "model = NMF(n_components=k, init='nndsvda', random_state=0,\n",
    "            beta_loss='kullback-leibler', solver='mu', max_iter=100, verbose = True, tol=1e-30)\n",
    "W = model.fit_transform(X) \n",
    "H = model.components_\n",
    "\n",
    "F, L = poisson2multinom(L = W.copy(), F = H.T.copy())\n",
    "s = X.sum(axis = 0)\n",
    "\n",
    "X_sim = simulate_multinomial_counts_local(L, F, s)\n",
    "C_sim = compute_C_unbiased(X_sim)"
   ]
  },
  {
   "cell_type": "code",
   "execution_count": 39,
   "metadata": {},
   "outputs": [
    {
     "name": "stdout",
     "output_type": "stream",
     "text": [
      "+ Start alternating projection\n",
      "+ Finish alternating projection\n",
      "  - Elapsed seconds = 26.5590\n",
      "\n",
      "+ Start alternating projection\n",
      "+ Finish alternating projection\n",
      "  - Elapsed seconds = 26.2363\n",
      "\n"
     ]
    }
   ],
   "source": [
    "C_rec, values, elapsedTime = rectifyC(C, 3*k, \"AP\")\n",
    "C_sim_rec, values, elapsedTime = rectifyC(C_sim, 3*k, \"AP\")"
   ]
  },
  {
   "cell_type": "code",
   "execution_count": 55,
   "metadata": {},
   "outputs": [
    {
     "data": {
      "text/plain": [
       "0.0001844681161266687"
      ]
     },
     "execution_count": 55,
     "metadata": {},
     "output_type": "execute_result"
    }
   ],
   "source": [
    "C.max()"
   ]
  },
  {
   "cell_type": "code",
   "execution_count": 57,
   "metadata": {},
   "outputs": [
    {
     "data": {
      "image/png": "[encoded data removed]",
      "text/plain": [
       "<Figure size 432x288 with 1 Axes>"
      ]
     },
     "metadata": {
      "needs_background": "light"
     },
     "output_type": "display_data"
    },
    {
     "data": {
      "image/png": "[encoded data removed]",
      "text/plain": [
       "<Figure size 432x288 with 1 Axes>"
      ]
     },
     "metadata": {
      "needs_background": "light"
     },
     "output_type": "display_data"
    },
    {
     "data": {
      "image/png": "[encoded data removed]",
      "text/plain": [
       "<Figure size 432x288 with 1 Axes>"
      ]
     },
     "metadata": {
      "needs_background": "light"
     },
     "output_type": "display_data"
    },
    {
     "data": {
      "image/png": "[encoded data removed]",
      "text/plain": [
       "<Figure size 432x288 with 1 Axes>"
      ]
     },
     "metadata": {
      "needs_background": "light"
     },
     "output_type": "display_data"
    }
   ],
   "source": [
    "eps = 1e-10\n",
    "\n",
    "C_tmp = C.copy()\n",
    "C_tmp[C_tmp < eps] = eps\n",
    "plt.hist(np.log10(np.diag(C_tmp)))\n",
    "plt.show()\n",
    "\n",
    "C_tmp = C_rec.copy()\n",
    "C_tmp[C_tmp < eps] = eps\n",
    "plt.hist(np.log10(np.diag(C_tmp)))\n",
    "plt.show()\n",
    "\n",
    "C_tmp = C_sim.copy()\n",
    "C_tmp[C_tmp < eps] = eps\n",
    "plt.hist(np.log10(np.diag(C_tmp)))\n",
    "plt.show()\n",
    "\n",
    "C_tmp = C_sim_rec.copy()\n",
    "C_tmp[C_tmp < eps] = eps\n",
    "plt.hist(np.log10(np.diag(C_tmp)))\n",
    "plt.show()"
   ]
  },
  {
   "cell_type": "code",
   "execution_count": 25,
   "metadata": {},
   "outputs": [],
   "source": [
    "w,v = np.linalg.eig(C)\n",
    "w2,v2 = np.linalg.eig(C_sim)"
   ]
  },
  {
   "cell_type": "code",
   "execution_count": 40,
   "metadata": {},
   "outputs": [],
   "source": [
    "w3,v3 = np.linalg.eig(C_rec)\n",
    "w4,v4 = np.linalg.eig(C_sim_rec)"
   ]
  },
  {
   "cell_type": "code",
   "execution_count": 45,
   "metadata": {},
   "outputs": [],
   "source": [
    "w = w.real\n",
    "w2 = w2.real\n",
    "w3 = w3.real\n",
    "w4 = w4.real"
   ]
  },
  {
   "cell_type": "code",
   "execution_count": 46,
   "metadata": {},
   "outputs": [
    {
     "name": "stdout",
     "output_type": "stream",
     "text": [
      "(-9.63095363931585e-07, 0.0007309010724020305)\n",
      "(-3.993326257357038e-06, 0.0007141843361879712)\n",
      "(-3.025628506123583e-07, 0.0007346265431350955)\n",
      "(-4.048940166578285e-08, 0.0007140768227186615)\n"
     ]
    }
   ],
   "source": [
    "print((w.min(), w.max()))\n",
    "print((w2.min(), w2.max()))\n",
    "print((w3.min(), w3.max()))\n",
    "print((w4.min(), w4.max()))"
   ]
  },
  {
   "cell_type": "code",
   "execution_count": 51,
   "metadata": {},
   "outputs": [
    {
     "data": {
      "image/png": "[encoded data removed]",
      "text/plain": [
       "<Figure size 432x288 with 1 Axes>"
      ]
     },
     "metadata": {
      "needs_background": "light"
     },
     "output_type": "display_data"
    },
    {
     "data": {
      "image/png": "[encoded data removed]",
      "text/plain": [
       "<Figure size 432x288 with 1 Axes>"
      ]
     },
     "metadata": {
      "needs_background": "light"
     },
     "output_type": "display_data"
    },
    {
     "name": "stdout",
     "output_type": "stream",
     "text": [
      "(-3.025628506123583e-07, 0.0007346265431350955)\n"
     ]
    },
    {
     "data": {
      "image/png": "[encoded data removed]",
      "text/plain": [
       "<Figure size 432x288 with 1 Axes>"
      ]
     },
     "metadata": {
      "needs_background": "light"
     },
     "output_type": "display_data"
    },
    {
     "name": "stdout",
     "output_type": "stream",
     "text": [
      "(-4.048940166578285e-08, 0.0007140768227186615)\n",
      "(6.6407449325649716e-06, 0.0007140768227186615)\n"
     ]
    },
    {
     "data": {
      "image/png": "[encoded data removed]",
      "text/plain": [
       "<Figure size 432x288 with 1 Axes>"
      ]
     },
     "metadata": {
      "needs_background": "light"
     },
     "output_type": "display_data"
    }
   ],
   "source": [
    "n_top = 15\n",
    "\n",
    "w_tmp = w.copy()\n",
    "idx = np.argsort(-np.abs(w_tmp))[:n_top]\n",
    "x = [i for i in range(n_top)]\n",
    "plt.scatter(x, -np.sort(-w_tmp[idx]))\n",
    "plt.ylim((w_tmp[idx].min(), w_tmp[idx].max()))\n",
    "plt.show()\n",
    "\n",
    "w_tmp = w2.copy()\n",
    "idx = np.argsort(-np.abs(w_tmp))[:n_top]\n",
    "x = [i for i in range(n_top)]\n",
    "plt.scatter(x, -np.sort(-w_tmp[idx]))\n",
    "plt.ylim((w_tmp[idx].min(), w_tmp[idx].max()))\n",
    "plt.show()\n",
    "\n",
    "\n",
    "\n",
    "w_tmp = w3.copy()\n",
    "print((w_tmp.min(), w_tmp.max()))\n",
    "idx = np.argsort(-np.abs(w_tmp))[:n_top]\n",
    "x = [i for i in range(n_top)]\n",
    "plt.scatter(x, -np.sort(-w_tmp[idx]))\n",
    "plt.ylim((w_tmp[idx].min(), w_tmp[idx].max()))\n",
    "plt.show()\n",
    "\n",
    "w_tmp = w4.copy()\n",
    "print((w_tmp.min(), w_tmp.max()))\n",
    "idx = np.argsort(-np.abs(w_tmp))[:n_top]\n",
    "x = [i for i in range(n_top)]\n",
    "plt.scatter(x, -np.sort(-w_tmp[idx]))\n",
    "print((w_tmp[idx].min(), w_tmp[idx].max()))\n",
    "plt.ylim((w_tmp[idx].min(), w_tmp[idx].max()))\n",
    "plt.show()\n",
    "\n",
    "\n",
    "\n"
   ]
  }
 ],
 "metadata": {
  "kernelspec": {
   "display_name": "Python 3",
   "language": "python",
   "name": "python3"
  },
  "language_info": {
   "codemirror_mode": {
    "name": "ipython",
    "version": 3
   },
   "file_extension": ".py",
   "mimetype": "text/x-python",
   "name": "python",
   "nbconvert_exporter": "python",
   "pygments_lexer": "ipython3",
   "version": "3.7.6"
  }
 },
 "nbformat": 4,
 "nbformat_minor": 4
}
