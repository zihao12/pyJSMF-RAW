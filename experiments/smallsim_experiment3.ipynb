{
 "cells": [
  {
   "cell_type": "markdown",
   "metadata": {},
   "source": [
    "## Introduction\n",
    "\n",
    "* In previous experiment https://github.com/zihao12/pyJSMF-RAW/blob/master/experiments/smallsim_experiment1.ipynb, the acnhor-word algorithm gets good estimate despite relying on the wrong anchor words. \n",
    "\n",
    "* Below we can see the rows in C corresponding to the true anchor-words and the wrong anchor-words are very similar. But I don't know why they are similar (these words have quite different distributions if we only look at count matrix $X$, or $X$ scaled by row sum). "
   ]
  },
  {
   "cell_type": "code",
   "execution_count": 1,
   "metadata": {},
   "outputs": [],
   "source": [
    "import os\n",
    "import sys\n",
    "import pandas as pd\n",
    "from scipy import sparse\n",
    "\n",
    "import numpy as np\n",
    "import matplotlib.pyplot as plt\n",
    "\n",
    "script_dir = \"../\"\n",
    "sys.path.append(os.path.abspath(script_dir))\n",
    "from file2 import *\n",
    "from factorize import *\n",
    "from smallsim_functions import *\n",
    "from misc import *\n",
    "\n",
    "\n",
    "np.random.seed(123)"
   ]
  },
  {
   "cell_type": "code",
   "execution_count": 2,
   "metadata": {},
   "outputs": [
    {
     "name": "stdout",
     "output_type": "stream",
     "text": [
      "[file.bows2C] Start constructing dense C...\n",
      "- Counting the co-occurrence for each document...\n",
      "+ Finish constructing C and D!\n",
      "  - The sum of all entries = 1.000000\n",
      "  - Elapsed Time = 0.7933 seconds\n"
     ]
    },
    {
     "data": {
      "text/plain": [
       "(4998, 4998)"
      ]
     },
     "execution_count": 2,
     "metadata": {},
     "output_type": "execute_result"
    }
   ],
   "source": [
    "n = 1000\n",
    "p = 5000\n",
    "k = 4\n",
    "doc_len = 100\n",
    "\n",
    "sim = smallsim_independent(n = n, p = p, k = k, doc_len = doc_len)\n",
    "X = sparse.coo_matrix(sim[\"X\"])\n",
    "L = sim[\"L\"]\n",
    "F = sim[\"F\"]\n",
    "id_m = sim[\"id_m\"]\n",
    "Chat, D1, D2 = X2C(X)\n",
    "\n",
    "X = X.toarray()\n",
    "\n",
    "Chat.shape"
   ]
  },
  {
   "cell_type": "code",
   "execution_count": 3,
   "metadata": {},
   "outputs": [
    {
     "name": "stdout",
     "output_type": "stream",
     "text": [
      "+ Start alternating projection\n",
      "  - 1-th iteration... (3.117024e-04 / 4.857925e-08)\n",
      "  - 2-th iteration... (1.482565e-07 / 4.857929e-08)\n",
      "  - 3-th iteration... (1.061586e-07 / 4.857932e-08)\n",
      "  - 4-th iteration... (8.022487e-08 / 4.857936e-08)\n",
      "  - 5-th iteration... (6.212581e-08 / 4.857939e-08)\n",
      "  - 6-th iteration... (4.910836e-08 / 4.857942e-08)\n",
      "  - 7-th iteration... (3.967035e-08 / 4.857945e-08)\n",
      "  - 8-th iteration... (3.278401e-08 / 4.857947e-08)\n",
      "  - 9-th iteration... (2.772217e-08 / 4.857949e-08)\n",
      "  - 10-th iteration... (2.386173e-08 / 4.857950e-08)\n",
      "  - 11-th iteration... (2.090256e-08 / 4.857952e-08)\n",
      "  - 12-th iteration... (1.862261e-08 / 4.857953e-08)\n",
      "  - 13-th iteration... (1.682069e-08 / 4.857954e-08)\n",
      "  - 14-th iteration... (1.537568e-08 / 4.857955e-08)\n",
      "  - 15-th iteration... (1.418457e-08 / 4.857956e-08)\n",
      "+ Finish alternating projection\n",
      "  - Elapsed seconds = 22.9625\n",
      "\n"
     ]
    }
   ],
   "source": [
    "Chat,_,_ = rectifyC(Chat, k, rectifier=\"AP\")"
   ]
  },
  {
   "cell_type": "code",
   "execution_count": 4,
   "metadata": {},
   "outputs": [],
   "source": [
    "Ctrue = F @ L.T\n",
    "Ctrue = Ctrue @ Ctrue.T\n",
    "Ctrue = Ctrue/Ctrue.sum()"
   ]
  },
  {
   "cell_type": "code",
   "execution_count": 5,
   "metadata": {},
   "outputs": [],
   "source": [
    "Chat_rs = Chat.sum(axis = 1)\n",
    "Ctrue_rs = Ctrue.sum(axis = 1)\n",
    "\n",
    "Chat_bar = Chat/Chat_rs[:,None]\n",
    "Ctrue_bar = Ctrue/Ctrue_rs[:,None]"
   ]
  },
  {
   "cell_type": "code",
   "execution_count": 6,
   "metadata": {},
   "outputs": [
    {
     "name": "stdout",
     "output_type": "stream",
     "text": [
      "[inference.findS] Start finding the set of anchor bases S...\n",
      "+ Finish finding set S!\n",
      "  - Discovered 4 basis vectors by [sparsePartial] method.\n",
      "  - Elapsed time = 0.5615 seconds\n",
      "\n",
      "[inference.findS] Start finding the set of anchor bases S...\n",
      "+ Finish finding set S!\n",
      "  - Discovered 4 basis vectors by [sparsePartial] method.\n",
      "  - Elapsed time = 0.5659 seconds\n",
      "\n"
     ]
    }
   ],
   "source": [
    "S, diagR, _ = findS(Chat_bar, k)\n",
    "S0, diagR0, _ = findS(Ctrue_bar, k)"
   ]
  },
  {
   "cell_type": "code",
   "execution_count": 7,
   "metadata": {},
   "outputs": [
    {
     "name": "stdout",
     "output_type": "stream",
     "text": [
      "[inference.recoverB] Start recovering the object-cluster B...\n",
      "  - 0-th member...\n",
      "  - 500-th member...\n",
      "  - 1000-th member...\n",
      "  - 1500-th member...\n",
      "  - 2000-th member...\n",
      "  - 2500-th member...\n",
      "  - 3000-th member...\n",
      "  - 3500-th member...\n",
      "  - 4000-th member...\n",
      "  - 4500-th member...\n",
      "+ Finish recovering B matrix using [activeSet]\n",
      "  - 4/4998 objects are converged.\n",
      "  - loss = 4.2114 (By Frobenius norm).\n",
      "  - Elapsed time = 6.1734 seconds.\n",
      "\n",
      "[inference.recoverB] Start recovering the object-cluster B...\n",
      "  - 0-th member...\n",
      "  - 500-th member...\n",
      "  - 1000-th member...\n",
      "  - 1500-th member...\n",
      "  - 2000-th member...\n",
      "  - 2500-th member...\n",
      "  - 3000-th member...\n",
      "  - 3500-th member...\n",
      "  - 4000-th member...\n",
      "  - 4500-th member...\n",
      "+ Finish recovering B matrix using [activeSet]\n",
      "  - 4/4998 objects are converged.\n",
      "  - loss = 3.9480 (By Frobenius norm).\n",
      "  - Elapsed time = 6.1280 seconds.\n",
      "\n"
     ]
    }
   ],
   "source": [
    "B, _, _ = recoverB(Chat_bar, Chat_rs, S, \"activeSet\")\n",
    "B0, _, _ = recoverB(Ctrue_bar, Chat_rs, S0, \"activeSet\")"
   ]
  },
  {
   "cell_type": "code",
   "execution_count": 8,
   "metadata": {},
   "outputs": [
    {
     "data": {
      "image/png": "[encoded data removed]",
      "text/plain": [
       "<Figure size 432x288 with 1 Axes>"
      ]
     },
     "metadata": {
      "needs_background": "light"
     },
     "output_type": "display_data"
    }
   ],
   "source": [
    "idx = match_topics(B0, B).astype(int)\n",
    "\n",
    "x = Ctrue_bar[S0,:]\n",
    "y = Chat_bar[S[idx],:]\n",
    "plt.scatter(x, y)\n",
    "plt.plot([0, 0.03],[0,0.03], color = \"red\")\n",
    "plt.xlabel(\"Ctrue_bar[S0,:]\")\n",
    "plt.ylabel(\"Chat_bar[S[idx],:]\")\n",
    "plt.show()"
   ]
  },
  {
   "cell_type": "code",
   "execution_count": 9,
   "metadata": {},
   "outputs": [
    {
     "data": {
      "image/png": "[encoded data removed]",
      "text/plain": [
       "<Figure size 432x288 with 1 Axes>"
      ]
     },
     "metadata": {
      "needs_background": "light"
     },
     "output_type": "display_data"
    }
   ],
   "source": [
    "x = Ctrue_bar[S0,:]\n",
    "y = Chat_bar[S0,:]\n",
    "plt.scatter(x, y)\n",
    "plt.plot([0, 0.03],[0,0.03], color = \"red\")\n",
    "plt.xlabel(\"Ctrue_bar[S0,:]\")\n",
    "plt.ylabel(\"Chat_bar[S0,:]\")\n",
    "plt.show()"
   ]
  },
  {
   "cell_type": "code",
   "execution_count": 10,
   "metadata": {},
   "outputs": [
    {
     "data": {
      "image/png": "[encoded data removed]",
      "text/plain": [
       "<Figure size 432x288 with 1 Axes>"
      ]
     },
     "metadata": {
      "needs_background": "light"
     },
     "output_type": "display_data"
    }
   ],
   "source": [
    "x = Chat_bar[S[idx],:]\n",
    "y = Chat_bar[S0,:]\n",
    "plt.scatter(x, y)\n",
    "plt.plot([0, 0.03],[0,0.03], color = \"red\")\n",
    "plt.xlabel(\"Chat_bar[S[idx],:]\")\n",
    "plt.ylabel(\"Chat_bar[S0,:]\")\n",
    "plt.show()"
   ]
  },
  {
   "cell_type": "code",
   "execution_count": 11,
   "metadata": {},
   "outputs": [
    {
     "data": {
      "text/plain": [
       "array([[0.0002, 0.    , 0.    , 0.    ],\n",
       "       [0.    , 0.0002, 0.    , 0.    ],\n",
       "       [0.0002, 0.    , 0.    , 0.    ],\n",
       "       [0.    , 0.0001, 0.    , 0.0001]])"
      ]
     },
     "execution_count": 11,
     "metadata": {},
     "output_type": "execute_result"
    }
   ],
   "source": [
    "F[S[idx],:].round(4)"
   ]
  },
  {
   "cell_type": "code",
   "execution_count": 12,
   "metadata": {},
   "outputs": [
    {
     "data": {
      "text/plain": [
       "array([[0.    , 0.    , 0.0197, 0.0002],\n",
       "       [0.    , 0.0083, 0.    , 0.    ],\n",
       "       [0.0188, 0.    , 0.    , 0.0001],\n",
       "       [0.0001, 0.    , 0.0003, 0.0279]])"
      ]
     },
     "execution_count": 12,
     "metadata": {},
     "output_type": "execute_result"
    }
   ],
   "source": [
    "F[S0,:].round(4)"
   ]
  },
  {
   "cell_type": "code",
   "execution_count": 13,
   "metadata": {},
   "outputs": [
    {
     "data": {
      "text/plain": [
       "<matplotlib.collections.PathCollection at 0x7fe7feef2f50>"
      ]
     },
     "execution_count": 13,
     "metadata": {},
     "output_type": "execute_result"
    },
    {
     "data": {
      "image/png": "[encoded data removed]",
      "text/plain": [
       "<Figure size 432x288 with 1 Axes>"
      ]
     },
     "metadata": {
      "needs_background": "light"
     },
     "output_type": "display_data"
    }
   ],
   "source": [
    "plt.scatter(X[:, S0].flatten(), X[:, S[idx]].flatten())"
   ]
  },
  {
   "cell_type": "code",
   "execution_count": 14,
   "metadata": {},
   "outputs": [
    {
     "data": {
      "text/plain": [
       "<matplotlib.collections.PathCollection at 0x7fe7feef2a50>"
      ]
     },
     "execution_count": 14,
     "metadata": {},
     "output_type": "execute_result"
    },
    {
     "data": {
      "image/png": "[encoded data removed]",
      "text/plain": [
       "<Figure size 432x288 with 1 Axes>"
      ]
     },
     "metadata": {
      "needs_background": "light"
     },
     "output_type": "display_data"
    }
   ],
   "source": [
    "Xbar = X/X.sum(axis = 1)[:, None]\n",
    "plt.scatter(Xbar[:, S0].flatten(), Xbar[:, S[idx]].flatten())"
   ]
  },
  {
   "cell_type": "code",
   "execution_count": 15,
   "metadata": {},
   "outputs": [
    {
     "data": {
      "text/plain": [
       "array([[1.37966438e-07, 1.21018377e-07, 1.72094657e-07, 1.59189930e-07],\n",
       "       [8.02424732e-08, 2.55942686e-07, 1.07355507e-07, 1.16012977e-07],\n",
       "       [7.26057035e-07, 1.58765230e-07, 5.83753480e-07, 1.30398822e-07],\n",
       "       [1.87039783e-07, 2.53816120e-07, 3.05985829e-07, 5.58728967e-07]])"
      ]
     },
     "execution_count": 15,
     "metadata": {},
     "output_type": "execute_result"
    }
   ],
   "source": [
    "Ctrue[np.ix_(S0, S[idx])]"
   ]
  }
 ],
 "metadata": {
  "kernelspec": {
   "display_name": "Python 3",
   "language": "python",
   "name": "python3"
  },
  "language_info": {
   "codemirror_mode": {
    "name": "ipython",
    "version": 3
   },
   "file_extension": ".py",
   "mimetype": "text/x-python",
   "name": "python",
   "nbconvert_exporter": "python",
   "pygments_lexer": "ipython3",
   "version": "3.7.6"
  }
 },
 "nbformat": 4,
 "nbformat_minor": 4
}
