{
 "cells": [
  {
   "cell_type": "markdown",
   "metadata": {},
   "source": [
    "## Goal\n",
    "\n",
    "I find an improved implementation of anchor-word algorithm at https://aclanthology.org/D19-1504.pdf . I want to see how well it performs on a simulated dataset that slightly violates the \"anchor-word\" assumption. \n",
    "\n",
    "## Results\n",
    "\n",
    "* The estimation is good, even when the identified \"anchor words\" do not satisfy the assumptions (two of them are for the same topic... I don't understand why it still works well)\n",
    "* The `rectify C` step is quite important: without this step the result is much worse; \n",
    "* If we know the true C we can almost exactly recover the topic matrx and topic-topic matrix $F, A$ (In the code $B$ is the estimation for $F$). Also, the identified \"anchor-words\" approximately satisfy the assumption. \n"
   ]
  },
  {
   "cell_type": "code",
   "execution_count": 1,
   "metadata": {},
   "outputs": [],
   "source": [
    "import os\n",
    "import sys\n",
    "import pandas as pd\n",
    "from scipy import sparse\n",
    "\n",
    "import numpy as np\n",
    "import matplotlib.pyplot as plt\n",
    "\n",
    "script_dir = \"../\"\n",
    "sys.path.append(os.path.abspath(script_dir))\n",
    "from file2 import *\n",
    "from factorize import *\n",
    "from smallsim_functions import *\n",
    "from misc import *\n",
    "\n",
    "\n",
    "np.random.seed(123)"
   ]
  },
  {
   "cell_type": "markdown",
   "metadata": {},
   "source": [
    "## small, uncorrelated example\n",
    "\n",
    "I simulate a count matrix from $L, F$, with each column of $F$ has 20 words that is 100 times more expressed than the rest words. This will not satisfy the strict \"anchor word\" assumption, but it's close: $F_{s_k, k} >> F_{s_k, l}, \\forall l \\neq k$ where $s_k$ is \"approximate\" anchor word for topic $k$. "
   ]
  },
  {
   "cell_type": "code",
   "execution_count": 2,
   "metadata": {},
   "outputs": [
    {
     "name": "stdout",
     "output_type": "stream",
     "text": [
      "[file.bows2C] Start constructing dense C...\n",
      "- Counting the co-occurrence for each document...\n",
      "+ Finish constructing C and D!\n",
      "  - The sum of all entries = 1.000000\n",
      "  - Elapsed Time = 0.7776 seconds\n"
     ]
    },
    {
     "data": {
      "text/plain": [
       "(4998, 4998)"
      ]
     },
     "execution_count": 2,
     "metadata": {},
     "output_type": "execute_result"
    }
   ],
   "source": [
    "n = 1000\n",
    "p = 5000\n",
    "k = 4\n",
    "doc_len = 100\n",
    "\n",
    "sim = smallsim_independent(n = n, p = p, k = k, doc_len = doc_len)\n",
    "X = sparse.coo_matrix(sim[\"X\"])\n",
    "L = sim[\"L\"]\n",
    "F = sim[\"F\"]\n",
    "id_m = sim[\"id_m\"]\n",
    "C, D1, D2 = X2C(X)\n",
    "\n",
    "C.shape"
   ]
  },
  {
   "cell_type": "code",
   "execution_count": 3,
   "metadata": {},
   "outputs": [
    {
     "name": "stdout",
     "output_type": "stream",
     "text": [
      "+ Start rectifying C...\n",
      "+ Start alternating projection\n",
      "  - 1-th iteration... (3.117024e-04 / 4.857925e-08)\n",
      "  - 2-th iteration... (1.482565e-07 / 4.857929e-08)\n",
      "  - 3-th iteration... (1.061586e-07 / 4.857932e-08)\n",
      "  - 4-th iteration... (8.022487e-08 / 4.857936e-08)\n",
      "  - 5-th iteration... (6.212581e-08 / 4.857939e-08)\n",
      "  - 6-th iteration... (4.910836e-08 / 4.857942e-08)\n",
      "  - 7-th iteration... (3.967035e-08 / 4.857945e-08)\n",
      "  - 8-th iteration... (3.278401e-08 / 4.857947e-08)\n",
      "  - 9-th iteration... (2.772217e-08 / 4.857949e-08)\n",
      "  - 10-th iteration... (2.386173e-08 / 4.857950e-08)\n",
      "  - 11-th iteration... (2.090256e-08 / 4.857952e-08)\n",
      "  - 12-th iteration... (1.862261e-08 / 4.857953e-08)\n",
      "  - 13-th iteration... (1.682069e-08 / 4.857954e-08)\n",
      "  - 14-th iteration... (1.537568e-08 / 4.857955e-08)\n",
      "  - 15-th iteration... (1.418457e-08 / 4.857956e-08)\n",
      "+ Finish alternating projection\n",
      "  - Elapsed seconds = 21.7141\n",
      "\n",
      "  - Finish rectifying C! [21.714116]\n",
      "+ Start finding the set of anchor bases S...\n",
      "[inference.findS] Start finding the set of anchor bases S...\n",
      "+ Finish finding set S!\n",
      "  - Discovered 4 basis vectors by [sparsePartial] method.\n",
      "  - Elapsed time = 0.5521 seconds\n",
      "\n",
      "  - Finish finding S! [0.552124]\n",
      "+ Start recovering the object-cluster B...\n",
      "[inference.recoverB] Start recovering the object-cluster B...\n",
      "  - 0-th member...\n",
      "  - 500-th member...\n",
      "  - 1000-th member...\n",
      "  - 1500-th member...\n",
      "  - 2000-th member...\n",
      "  - 2500-th member...\n",
      "  - 3000-th member...\n",
      "  - 3500-th member...\n",
      "  - 4000-th member...\n",
      "  - 4500-th member...\n",
      "+ Finish recovering B matrix using [activeSet]\n",
      "  - 4/4998 objects are converged.\n",
      "  - loss = 4.2114 (By Frobenius norm).\n",
      "  - Elapsed time = 5.9420 seconds.\n",
      "\n",
      "  - Finish recovering B! [5.941952]\n",
      "+ Start recovering the cluster-cluster A...\n",
      "[inference.recoverA] Start recovering the cluster-cluster A...\n",
      "+ Finish recovering A!\n",
      "  - [diagonal] recovery is used.\n",
      "  - Elapsed time = 0.0003 seconds.\n",
      "\n",
      "  - Finish recovering A! [0.000305]\n",
      "- Finish factorizing C! [28.559002]\n"
     ]
    }
   ],
   "source": [
    "S, B, A, Btilde, Cbar, C_rowSums, diagR, C = factorizeC(C, K=k, rectifier='AP', optimizer='activeSet')\n"
   ]
  },
  {
   "cell_type": "markdown",
   "metadata": {},
   "source": [
    "## Evaulate results"
   ]
  },
  {
   "cell_type": "markdown",
   "metadata": {},
   "source": [
    "* There is 1-1 correspondence between topics\n",
    "* However, the recovered \"anchor words\" (S below) do not satisfy the \"anchor word\" assumption\n",
    "* Still, the fitted values for $F$ (topic matrix) and $A$ (topic-topic matrix) are not bad. "
   ]
  },
  {
   "cell_type": "code",
   "execution_count": 4,
   "metadata": {},
   "outputs": [
    {
     "data": {
      "text/plain": [
       "array([3, 1, 0, 2])"
      ]
     },
     "execution_count": 4,
     "metadata": {},
     "output_type": "execute_result"
    }
   ],
   "source": [
    "topic_idx = match_topics(F, B).astype(int)\n",
    "topic_idx"
   ]
  },
  {
   "cell_type": "code",
   "execution_count": 5,
   "metadata": {},
   "outputs": [
    {
     "data": {
      "text/plain": [
       "array([[4.0e-05, 0.0e+00, 0.0e+00, 0.0e+00],\n",
       "       [0.0e+00, 5.0e-05, 0.0e+00, 0.0e+00],\n",
       "       [0.0e+00, 0.0e+00, 9.0e-05, 0.0e+00],\n",
       "       [0.0e+00, 0.0e+00, 0.0e+00, 2.3e-04]])"
      ]
     },
     "execution_count": 5,
     "metadata": {},
     "output_type": "execute_result"
    }
   ],
   "source": [
    "B[S,:].round(5)"
   ]
  },
  {
   "cell_type": "code",
   "execution_count": 6,
   "metadata": {},
   "outputs": [
    {
     "data": {
      "text/plain": [
       "array([3972, 2357, 4324, 4377])"
      ]
     },
     "execution_count": 6,
     "metadata": {},
     "output_type": "execute_result"
    }
   ],
   "source": [
    "S"
   ]
  },
  {
   "cell_type": "code",
   "execution_count": 7,
   "metadata": {},
   "outputs": [
    {
     "data": {
      "text/plain": [
       "array([[0.0002, 0.    , 0.    , 0.    ],\n",
       "       [0.    , 0.0002, 0.    , 0.    ],\n",
       "       [0.0002, 0.    , 0.    , 0.    ],\n",
       "       [0.    , 0.0001, 0.    , 0.0001]])"
      ]
     },
     "execution_count": 7,
     "metadata": {},
     "output_type": "execute_result"
    }
   ],
   "source": [
    "F[S[topic_idx],:].round(4)"
   ]
  },
  {
   "cell_type": "code",
   "execution_count": 8,
   "metadata": {},
   "outputs": [
    {
     "data": {
      "text/plain": [
       "array([[0.28, 0.  , 0.  , 0.  ],\n",
       "       [0.  , 0.31, 0.  , 0.  ],\n",
       "       [0.  , 0.  , 0.33, 0.  ],\n",
       "       [0.  , 0.  , 0.  , 0.32]])"
      ]
     },
     "execution_count": 8,
     "metadata": {},
     "output_type": "execute_result"
    }
   ],
   "source": [
    "# compare A and LLt/n\n",
    "A_reorder = A[topic_idx,:]\n",
    "A_reorder = A_reorder[:, topic_idx]\n",
    "A_reorder.round(decimals=2)"
   ]
  },
  {
   "cell_type": "code",
   "execution_count": 9,
   "metadata": {},
   "outputs": [
    {
     "data": {
      "text/plain": [
       "array([[0.16, 0.02, 0.02, 0.02],\n",
       "       [0.02, 0.18, 0.03, 0.02],\n",
       "       [0.02, 0.03, 0.2 , 0.02],\n",
       "       [0.02, 0.02, 0.02, 0.19]])"
      ]
     },
     "execution_count": 9,
     "metadata": {},
     "output_type": "execute_result"
    }
   ],
   "source": [
    "L = sim[\"L\"]\n",
    "(L.T.dot(L)/n).round(decimals=2)"
   ]
  },
  {
   "cell_type": "code",
   "execution_count": 10,
   "metadata": {},
   "outputs": [
    {
     "data": {
      "image/png": "[encoded data removed]",
      "text/plain": [
       "<Figure size 432x288 with 1 Axes>"
      ]
     },
     "metadata": {
      "needs_background": "light"
     },
     "output_type": "display_data"
    }
   ],
   "source": [
    "plt.scatter(F.flatten(), B[:,topic_idx].flatten())\n",
    "plt.xlabel('true F')\n",
    "plt.ylabel('estimated F') \n",
    "plt.show()"
   ]
  },
  {
   "cell_type": "markdown",
   "metadata": {},
   "source": [
    "## Apply the algorithm without rectifying C`"
   ]
  },
  {
   "cell_type": "code",
   "execution_count": 11,
   "metadata": {},
   "outputs": [
    {
     "name": "stdout",
     "output_type": "stream",
     "text": [
      "[file.bows2C] Start constructing dense C...\n",
      "- Counting the co-occurrence for each document...\n",
      "+ Finish constructing C and D!\n",
      "  - The sum of all entries = 1.000000\n",
      "  - Elapsed Time = 0.7600 seconds\n",
      "+ Start rectifying C...\n",
      "  - Finish rectifying C! [0.000000]\n",
      "+ Start finding the set of anchor bases S...\n",
      "[inference.findS] Start finding the set of anchor bases S...\n",
      "+ Finish finding set S!\n",
      "  - Discovered 4 basis vectors by [sparsePartial] method.\n",
      "  - Elapsed time = 0.5701 seconds\n",
      "\n",
      "  - Finish finding S! [0.570118]\n",
      "+ Start recovering the object-cluster B...\n",
      "[inference.recoverB] Start recovering the object-cluster B...\n",
      "  - 0-th member...\n",
      "  - 500-th member...\n",
      "  - 1000-th member...\n",
      "  - 1500-th member...\n",
      "  - 2000-th member...\n",
      "  - 2500-th member...\n",
      "  - 3000-th member...\n",
      "  - 3500-th member...\n",
      "  - 4000-th member...\n",
      "  - 4500-th member...\n",
      "+ Finish recovering B matrix using [activeSet]\n",
      "  - 4/4998 objects are converged.\n",
      "  - loss = 6.3520 (By Frobenius norm).\n",
      "  - Elapsed time = 5.7594 seconds.\n",
      "\n",
      "  - Finish recovering B! [5.759394]\n",
      "+ Start recovering the cluster-cluster A...\n",
      "[inference.recoverA] Start recovering the cluster-cluster A...\n",
      "+ Finish recovering A!\n",
      "  - [diagonal] recovery is used.\n",
      "  - Elapsed time = 0.0003 seconds.\n",
      "\n",
      "  - Finish recovering A! [0.000301]\n",
      "- Finish factorizing C! [6.642163]\n"
     ]
    }
   ],
   "source": [
    "C, D1, D2 = X2C(X)\n",
    "S, B, A, Btilde, Cbar, C_rowSums, diagR, C = factorizeC(C, K=k, rectifier='no', optimizer='activeSet')"
   ]
  },
  {
   "cell_type": "code",
   "execution_count": 12,
   "metadata": {},
   "outputs": [
    {
     "data": {
      "text/plain": [
       "array([3, 1, 2, 0])"
      ]
     },
     "execution_count": 12,
     "metadata": {},
     "output_type": "execute_result"
    }
   ],
   "source": [
    "topic_idx = match_topics(F, B).astype(int)\n",
    "topic_idx"
   ]
  },
  {
   "cell_type": "markdown",
   "metadata": {},
   "source": [
    "There is something wrong with `recoverA` step... "
   ]
  },
  {
   "cell_type": "code",
   "execution_count": 13,
   "metadata": {},
   "outputs": [
    {
     "data": {
      "text/plain": [
       "array([[0., 0., 0., 0.],\n",
       "       [0., 0., 0., 0.],\n",
       "       [0., 0., 0., 0.],\n",
       "       [0., 0., 0., 0.]])"
      ]
     },
     "execution_count": 13,
     "metadata": {},
     "output_type": "execute_result"
    }
   ],
   "source": [
    "# compare A and LLt/n\n",
    "A"
   ]
  },
  {
   "cell_type": "code",
   "execution_count": 14,
   "metadata": {},
   "outputs": [
    {
     "data": {
      "text/plain": [
       "array([[0.16, 0.02, 0.02, 0.02],\n",
       "       [0.02, 0.18, 0.03, 0.02],\n",
       "       [0.02, 0.03, 0.2 , 0.02],\n",
       "       [0.02, 0.02, 0.02, 0.19]])"
      ]
     },
     "execution_count": 14,
     "metadata": {},
     "output_type": "execute_result"
    }
   ],
   "source": [
    "L = sim[\"L\"]\n",
    "(L.T.dot(L)/n).round(decimals=2)"
   ]
  },
  {
   "cell_type": "code",
   "execution_count": 15,
   "metadata": {},
   "outputs": [
    {
     "data": {
      "image/png": "[encoded data removed]",
      "text/plain": [
       "<Figure size 432x288 with 1 Axes>"
      ]
     },
     "metadata": {
      "needs_background": "light"
     },
     "output_type": "display_data"
    }
   ],
   "source": [
    "plt.scatter(F.flatten(), B[:,topic_idx].flatten())\n",
    "plt.xlabel('true F')\n",
    "plt.ylabel('estimated F') \n",
    "plt.show()"
   ]
  },
  {
   "cell_type": "markdown",
   "metadata": {},
   "source": [
    "## suppose we know the true C"
   ]
  },
  {
   "cell_type": "code",
   "execution_count": 16,
   "metadata": {},
   "outputs": [
    {
     "name": "stdout",
     "output_type": "stream",
     "text": [
      "+ Start rectifying C...\n",
      "  - Finish rectifying C! [0.000000]\n",
      "+ Start finding the set of anchor bases S...\n",
      "[inference.findS] Start finding the set of anchor bases S...\n",
      "+ Finish finding set S!\n",
      "  - Discovered 4 basis vectors by [sparsePartial] method.\n",
      "  - Elapsed time = 0.5493 seconds\n",
      "\n",
      "  - Finish finding S! [0.549258]\n",
      "+ Start recovering the object-cluster B...\n",
      "[inference.recoverB] Start recovering the object-cluster B...\n",
      "  - 0-th member...\n",
      "  - 500-th member...\n",
      "  - 1000-th member...\n",
      "  - 1500-th member...\n",
      "  - 2000-th member...\n",
      "  - 2500-th member...\n",
      "  - 3000-th member...\n",
      "  - 3500-th member...\n",
      "  - 4000-th member...\n",
      "  - 4500-th member...\n",
      "+ Finish recovering B matrix using [activeSet]\n",
      "  - 4/4998 objects are converged.\n",
      "  - loss = 3.9480 (By Frobenius norm).\n",
      "  - Elapsed time = 6.1010 seconds.\n",
      "\n",
      "  - Finish recovering B! [6.100957]\n",
      "+ Start recovering the cluster-cluster A...\n",
      "[inference.recoverA] Start recovering the cluster-cluster A...\n",
      "+ Finish recovering A!\n",
      "  - [diagonal] recovery is used.\n",
      "  - Elapsed time = 0.0003 seconds.\n",
      "\n",
      "  - Finish recovering A! [0.000302]\n",
      "- Finish factorizing C! [6.944656]\n"
     ]
    }
   ],
   "source": [
    "Lam = L @ F.T\n",
    "C = Lam.T @ Lam\n",
    "C = C/C.sum()\n",
    "\n",
    "S, B, A, Btilde, Cbar, C_rowSums, diagR, C = factorizeC(C, K=k, rectifier='no', optimizer='activeSet')"
   ]
  },
  {
   "cell_type": "code",
   "execution_count": 17,
   "metadata": {},
   "outputs": [
    {
     "data": {
      "text/plain": [
       "array([2, 1, 0, 3])"
      ]
     },
     "execution_count": 17,
     "metadata": {},
     "output_type": "execute_result"
    }
   ],
   "source": [
    "topic_idx = match_topics(F, B).astype(int)\n",
    "topic_idx"
   ]
  },
  {
   "cell_type": "code",
   "execution_count": 18,
   "metadata": {},
   "outputs": [
    {
     "data": {
      "text/plain": [
       "array([[0.16, 0.02, 0.02, 0.02],\n",
       "       [0.02, 0.18, 0.03, 0.03],\n",
       "       [0.02, 0.03, 0.19, 0.03],\n",
       "       [0.02, 0.03, 0.03, 0.18]])"
      ]
     },
     "execution_count": 18,
     "metadata": {},
     "output_type": "execute_result"
    }
   ],
   "source": [
    "# compare A and LLt/n\n",
    "A_reorder = A[topic_idx,:]\n",
    "A_reorder = A_reorder[:, topic_idx]\n",
    "A_reorder.round(decimals=2)"
   ]
  },
  {
   "cell_type": "code",
   "execution_count": 19,
   "metadata": {},
   "outputs": [
    {
     "data": {
      "text/plain": [
       "array([[0.16, 0.02, 0.02, 0.02],\n",
       "       [0.02, 0.18, 0.03, 0.02],\n",
       "       [0.02, 0.03, 0.2 , 0.02],\n",
       "       [0.02, 0.02, 0.02, 0.19]])"
      ]
     },
     "execution_count": 19,
     "metadata": {},
     "output_type": "execute_result"
    }
   ],
   "source": [
    "L = sim[\"L\"]\n",
    "(L.T.dot(L)/n).round(decimals=2)"
   ]
  },
  {
   "cell_type": "code",
   "execution_count": 20,
   "metadata": {},
   "outputs": [
    {
     "data": {
      "image/png": "[encoded data removed]",
      "text/plain": [
       "<Figure size 432x288 with 1 Axes>"
      ]
     },
     "metadata": {
      "needs_background": "light"
     },
     "output_type": "display_data"
    }
   ],
   "source": [
    "plt.scatter(F.flatten(), B[:,topic_idx].flatten())\n",
    "plt.xlabel('true F')\n",
    "plt.ylabel('estimated F') \n",
    "plt.show()"
   ]
  },
  {
   "cell_type": "code",
   "execution_count": 21,
   "metadata": {},
   "outputs": [
    {
     "data": {
      "text/plain": [
       "array([3903, 3029,  986,  557])"
      ]
     },
     "execution_count": 21,
     "metadata": {},
     "output_type": "execute_result"
    }
   ],
   "source": [
    "S"
   ]
  },
  {
   "cell_type": "markdown",
   "metadata": {},
   "source": [
    "The identified \"anchor-words\" approximately satisfy the assumption, and the estimation is accurate. "
   ]
  },
  {
   "cell_type": "code",
   "execution_count": 22,
   "metadata": {},
   "outputs": [
    {
     "data": {
      "text/plain": [
       "array([ 986, 3029, 3903,  557])"
      ]
     },
     "execution_count": 22,
     "metadata": {},
     "output_type": "execute_result"
    }
   ],
   "source": [
    "S[topic_idx]"
   ]
  },
  {
   "cell_type": "code",
   "execution_count": 23,
   "metadata": {},
   "outputs": [
    {
     "data": {
      "text/plain": [
       "array([[0.0188, 0.    , 0.    , 0.0001],\n",
       "       [0.    , 0.0083, 0.    , 0.    ],\n",
       "       [0.    , 0.    , 0.0197, 0.0002],\n",
       "       [0.0001, 0.    , 0.0003, 0.0279]])"
      ]
     },
     "execution_count": 23,
     "metadata": {},
     "output_type": "execute_result"
    }
   ],
   "source": [
    "F[S[topic_idx],:].round(4)"
   ]
  },
  {
   "cell_type": "code",
   "execution_count": 24,
   "metadata": {},
   "outputs": [
    {
     "data": {
      "text/plain": [
       "array([[0.01997713, 0.        , 0.        , 0.        ],\n",
       "       [0.        , 0.00830997, 0.        , 0.        ],\n",
       "       [0.        , 0.        , 0.01893034, 0.        ],\n",
       "       [0.        , 0.        , 0.        , 0.02830351]])"
      ]
     },
     "execution_count": 24,
     "metadata": {},
     "output_type": "execute_result"
    }
   ],
   "source": [
    "B[S,:]"
   ]
  }
 ],
 "metadata": {
  "kernelspec": {
   "display_name": "Python 3",
   "language": "python",
   "name": "python3"
  },
  "language_info": {
   "codemirror_mode": {
    "name": "ipython",
    "version": 3
   },
   "file_extension": ".py",
   "mimetype": "text/x-python",
   "name": "python",
   "nbconvert_exporter": "python",
   "pygments_lexer": "ipython3",
   "version": "3.7.6"
  }
 },
 "nbformat": 4,
 "nbformat_minor": 4
}
