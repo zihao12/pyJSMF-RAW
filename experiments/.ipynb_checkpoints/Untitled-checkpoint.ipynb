{
 "cells": [
  {
   "cell_type": "code",
   "execution_count": 1,
   "metadata": {},
   "outputs": [
    {
     "name": "stdout",
     "output_type": "stream",
     "text": [
      "/Users/ontheroad/Desktop/git/pyJSMF-RAW/experiments\n",
      "/Users/ontheroad/Desktop/git/pyJSMF-RAW/experiments\n"
     ]
    }
   ],
   "source": [
    "import os\n",
    "import sys\n",
    "\n",
    "script_dir = \"../\"\n",
    "sys.path.append(os.path.abspath(script_dir))\n",
    "\n",
    "print(os.getcwd())\n",
    "from file2 import createC\n",
    "print(os.getcwd())\n",
    "\n",
    "\n"
   ]
  },
  {
   "cell_type": "code",
   "execution_count": null,
   "metadata": {},
   "outputs": [
    {
     "name": "stdout",
     "output_type": "stream",
     "text": [
      "[file.readBows] Start reading Bag-of-words dataset...\n",
      "> /Users/ontheroad/Desktop/git/pyJSMF-RAW/file.py(198)readBows()\n",
      "-> bowsFile = open(bows_filename, 'r')\n",
      "(Pdb) n\n",
      "> /Users/ontheroad/Desktop/git/pyJSMF-RAW/file.py(199)readBows()\n",
      "-> inputLine = bowsFile.readline()\n",
      "(Pdb) n\n",
      "> /Users/ontheroad/Desktop/git/pyJSMF-RAW/file.py(201)readBows()\n",
      "-> M = [int(i) for i in inputLine.strip('\\n').split()]\n",
      "(Pdb) inputLine\n",
      "'%%MatrixMarket matrix coordinate integer general\\n'\n",
      "(Pdb) bowsFile.readline()\n",
      "'2483 14036 1304438\\n'\n",
      "(Pdb) bowsFile.readline()\n",
      "'91 1 1\\n'\n",
      "(Pdb) bows = np.fromregex(bowsFile, r'([\\d]+)[ \\t]([\\d]+)[ \\t]([\\d]+)', dtype='int_')\n",
      "(Pdb) bows\n",
      "array([[  513,     1,     3],\n",
      "       [  552,     1,     1],\n",
      "       [  898,     1,     1],\n",
      "       ...,\n",
      "       [ 1169, 14036,     1],\n",
      "       [ 1438, 14036,     2],\n",
      "       [ 1560, 14036,     1]])\n",
      "(Pdb) bows.shape()\n",
      "*** TypeError: 'tuple' object is not callable\n",
      "(Pdb) type(bows)\n",
      "<class 'numpy.ndarray'>\n",
      "(Pdb) bows.shape\n",
      "(1304437, 3)\n",
      "(Pdb) dictionary = readObjects(dict_filename)\n",
      "(Pdb) readObjects(stop_filename)\n",
      "*** FileNotFoundError: [Errno 2] No such file or directory: ''\n"
     ]
    }
   ],
   "source": [
    "C, D1, D2, dictionary = createC(\"../dataset/real_bows/docword.nips.txt\", \n",
    "                                \"../dataset/real_bows/vocab.nips.txt\", \n",
    "                                N=5000, min_objects=3, min_tokens=5, output_filename=\"example\")\n",
    "\n"
   ]
  }
 ],
 "metadata": {
  "kernelspec": {
   "display_name": "Python 3",
   "language": "python",
   "name": "python3"
  },
  "language_info": {
   "codemirror_mode": {
    "name": "ipython",
    "version": 3
   },
   "file_extension": ".py",
   "mimetype": "text/x-python",
   "name": "python",
   "nbconvert_exporter": "python",
   "pygments_lexer": "ipython3",
   "version": "3.7.6"
  }
 },
 "nbformat": 4,
 "nbformat_minor": 4
}
