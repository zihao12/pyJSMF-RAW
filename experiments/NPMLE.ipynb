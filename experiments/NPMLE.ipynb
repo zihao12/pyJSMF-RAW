{
 "cells": [
  {
   "cell_type": "markdown",
   "metadata": {},
   "source": [
    "Model: \n",
    "\\begin{align}\n",
    "    & x_{ij} \\sim \\text{Pois}(s_j \\lambda_{ij})\\\\\n",
    "    & \\lambda_{.j} \\sim \\sum_l \\pi_l \\hat{\\lambda}_{.l}\\\\\n",
    "\\end{align}\n",
    "where $\\hat{\\lambda}_{ij} = x_{ij} / s_j$\n",
    "\n",
    "NPMLE: \n",
    "\\begin{align}\n",
    "    l(\\pi_.) &= \\sum_{j = 1}^p log(\\sum_l \\pi_l \\text{Pois}(x_{.j} | s_j, \\hat{\\lambda}_{.l})) \\\\\n",
    "    & = \\sum_{j = 1}^p log(\\sum_l \\pi_l L_{jl})\n",
    "\\end{align}\n",
    "\n",
    "Posterior mean:\n",
    "\n",
    "\\begin{align}\n",
    "    &  w_{jl} := \\text{P}(\\lambda_{.j} = \\hat{\\lambda}_{.l} | x_{.j}, \\hat{\\pi}) \\propto \\pi_l \\text{Pois}(x_{.j} | s_j, \\hat{\\lambda}_{.l})) = \\pi_l L_{jl}\\\\\n",
    "    & \\lambda_{.j}^{\\text{pos mean}} = \\sum_l w_{jl} \\hat{\\lambda}_{.l}\n",
    "\\end{align}"
   ]
  },
  {
   "cell_type": "markdown",
   "metadata": {},
   "source": [
    "EM algorithm:\n",
    "\n",
    "* Let $l_{jl} = log p(x_j | s_j, \\hat{\\lambda}_l)$ and let $l = 1 ... d$ (to be a bit more general). \n",
    "* Let $z_j$ denote which prior support $x_j$ is generated from; $q_{jl} := p(z_j = l | x_j, \\pi, s_j)$\n",
    "\n",
    "\\begin{align}\n",
    "    & p(x_j, z_j) = \\Pi_{l = 1}^d (p(z_j = l) p(x_j | s_j, \\hat{\\lambda}_l))^{\\delta_{z_j = l}}\\\\\n",
    "    & log \\ p(x_j, x_j) = \\sum_{l = 1}^d \\delta_{z_j = l} (log \\pi_l + l_{jl})\\\\\n",
    "    & E_q log \\ p(x_j, x_j) = \\sum_{l = 1}^d q_{jl} (log \\pi_l + l_{jl})\\\\\n",
    "\\end{align}\n",
    "\n",
    "Then we can get iterates:\n",
    "\n",
    "\\begin{align}\n",
    "    \\text{E step:} \\ & q_{jl} \\propto \\pi_l L_{jl}\\\\\n",
    "     \\text{M step:} \\ & \\pi_l \\propto \\sum_j q_{jl} \n",
    "\\end{align}"
   ]
  },
  {
   "cell_type": "code",
   "execution_count": 1,
   "metadata": {},
   "outputs": [],
   "source": [
    "%%capture\n",
    "import os\n",
    "import sys\n",
    "import time\n",
    "import pandas as pd\n",
    "from scipy import sparse\n",
    "import matplotlib.pyplot as plt\n",
    "import numpy as np\n",
    "import pickle\n",
    "from sklearn.decomposition import PCA\n",
    "from sklearn.decomposition import NMF\n",
    "from scipy.stats import poisson\n",
    "from scipy.special import gammaln\n",
    "from scipy.special import logsumexp\n",
    "\n",
    "script_dir = \"../\"\n",
    "sys.path.append(os.path.abspath(script_dir))\n",
    "from file2 import *\n",
    "from factorize import *\n",
    "from smallsim_functions4 import *\n",
    "from misc import *\n",
    "from sinkhorn import * \n",
    "datadir = \"../../../gdrive/github_data/pyJSMF-RAW-data\"\n",
    "\n",
    "from IPython.core.interactiveshell import InteractiveShell\n",
    "# InteractiveShell.ast_node_interactivity = \"all\"\n",
    "\n",
    "np.random.seed(123)\n"
   ]
  },
  {
   "cell_type": "markdown",
   "metadata": {},
   "source": [
    "## Implementation"
   ]
  },
  {
   "cell_type": "code",
   "execution_count": 2,
   "metadata": {},
   "outputs": [],
   "source": [
    "def compute_lamhat(X):\n",
    "    s = X.sum(axis = 0)\n",
    "    return X / s, s\n",
    "\n",
    "# def compute_l0(X, s, lam):\n",
    "#     _, p = X.shape\n",
    "#     _, p2 = lam.shape\n",
    "#     loglik = np.zeros((p, p2))\n",
    "#     for j in range(p):\n",
    "#         loglik[j,:] = poisson.logpmf(k = X[:, j][:, None], mu = s[j] * lam).sum(axis = 0)\n",
    "        \n",
    "#     return loglik\n",
    "\n",
    "def compute_l(X, s, lam):\n",
    "    loglik = X.T @ np.log(lam + 1e-300)\n",
    "    loglik -= np.outer(s, lam.sum(axis = 0))\n",
    "    loglik += (np.log(s) * X.sum(axis = 0))[:, None] - gammaln(X + 1).sum(axis = 0)[:,None]\n",
    "    loglik[loglik < - 600] = -np.inf\n",
    "    \n",
    "    return loglik\n",
    "    \n",
    "def compute_mll(X,l, pi):\n",
    "    return logsumexp(l + np.log(pi)[None,:], axis = 1).sum()\n",
    "\n",
    "\n",
    "\n",
    "def em(X, l, maxiter=20): ## todo: provide an option to initialize with q or pi\n",
    "    _, d = l.shape\n",
    "    pi = np.ones(d)/d\n",
    "    ll = []\n",
    "\n",
    "    for t in range(maxiter):\n",
    "        q = np.exp(l + np.log(pi)[None,:])\n",
    "        q /= q.sum(axis = 1)[:, None]\n",
    "        q[np.isnan(q)] = 1/d ## nan happens when entire row is 0 ... so set them equally likely\n",
    "\n",
    "        pi = q.sum(axis = 0)\n",
    "        pi /= pi.sum()\n",
    "\n",
    "        ll.append(compute_mll(X, l, pi))\n",
    "        \n",
    "    q = np.exp(l + np.log(pi)[None,:])\n",
    "    q /= q.sum(axis = 1)[:, None]\n",
    "    q[np.isnan(q)] = 1/d \n",
    "        \n",
    "    return pi, ll, q\n",
    "\n",
    "def NPMLE(X):\n",
    "    n, p = X.shape\n",
    "    lamhat, s = compute_lamhat(X)\n",
    "    _, d = lamhat.shape\n",
    "    l = compute_l(X, s, lamhat)\n",
    "    pi, ll, q = em(X, l)\n",
    "    lam_pm = lamhat @ q.T\n",
    "    \n",
    "    return lam_pm, s, pi, q, ll\n"
   ]
  },
  {
   "cell_type": "markdown",
   "metadata": {},
   "source": [
    "## Very small example as sanity check"
   ]
  },
  {
   "cell_type": "code",
   "execution_count": 3,
   "metadata": {},
   "outputs": [],
   "source": [
    "%%capture\n",
    "n = 100\n",
    "p = 120 ## make this larger to increase difficulty\n",
    "n_top = 20 ## number of top words in each topic\n",
    "k = 3\n",
    "doc_len = 80\n",
    "np.random.seed(123)\n",
    "\n",
    "X, Atrue, Ftrue, p0, Ltrue = smallsim_independent(n = n, p = p, k = k, doc_len = doc_len, \n",
    "                                           n_top = n_top, returnL=True)\n",
    "w_idx = np.where(X.sum(axis = 0) > 0)[0]\n",
    "X = X[:,w_idx]\n",
    "\n",
    "## truth\n",
    "Pi_true = Ltrue @ Ftrue.T\n",
    "Ctrue = Pi_true.T @ Pi_true / n\n",
    "Cbar0 = Ctrue / Ctrue.sum(axis = 1)[:, None]\n",
    "\n",
    "S0, _, _ = findS(Cbar0, k)\n",
    "Cbar0_pj = pca_proj(Cbar0)\n",
    "\n",
    "lam_pm, s, pi, q, ll = NPMLE(X)\n"
   ]
  },
  {
   "cell_type": "code",
   "execution_count": 4,
   "metadata": {},
   "outputs": [
    {
     "data": {
      "image/png": "[encoded data removed]",
      "text/plain": [
       "<Figure size 432x288 with 1 Axes>"
      ]
     },
     "metadata": {
      "needs_background": "light"
     },
     "output_type": "display_data"
    }
   ],
   "source": [
    "plt.scatter([t for t in range(len(ll))], ll)\n",
    "plt.xlabel(\"iter\")\n",
    "plt.ylabel(\"loglik\")\n",
    "plt.show()"
   ]
  },
  {
   "cell_type": "code",
   "execution_count": 5,
   "metadata": {},
   "outputs": [
    {
     "data": {
      "image/png": "[encoded data removed]",
      "text/plain": [
       "<Figure size 432x288 with 1 Axes>"
      ]
     },
     "metadata": {
      "needs_background": "light"
     },
     "output_type": "display_data"
    },
    {
     "data": {
      "image/png": "[encoded data removed]",
      "text/plain": [
       "<Figure size 432x288 with 1 Axes>"
      ]
     },
     "metadata": {
      "needs_background": "light"
     },
     "output_type": "display_data"
    }
   ],
   "source": [
    "plt.hist(pi)\n",
    "plt.title(\"hist of pi\")\n",
    "plt.show()\n",
    "\n",
    "plt.hist(q.max(axis = 1), bins = 30)\n",
    "plt.title(\"hist of maximum in each row of q_jl\")\n",
    "plt.show()"
   ]
  },
  {
   "cell_type": "markdown",
   "metadata": {},
   "source": [
    "## A harder example\n",
    "\n",
    "* I think the difficulty comes from high dimensionality: each gene lives in a very high dimensional space; thus it's very unlikely other genes' expression can give a good likelihood. Therefore $\\pi_l \\approx = 1/p$ for almost all genes, and the posterior weights also almost all lie in itself.\n"
   ]
  },
  {
   "cell_type": "code",
   "execution_count": 6,
   "metadata": {},
   "outputs": [],
   "source": [
    "%%capture\n",
    "n = 1000\n",
    "p = 1200 ## make this larger to increase difficulty\n",
    "n_top = 20 ## number of top words in each topic\n",
    "k = 3\n",
    "doc_len = 80\n",
    "np.random.seed(123)\n",
    "\n",
    "X, Atrue, Ftrue, p0, Ltrue = smallsim_independent(n = n, p = p, k = k, doc_len = doc_len, \n",
    "                                           n_top = n_top, returnL=True)\n",
    "w_idx = np.where(X.sum(axis = 0) > 0)[0]\n",
    "X = X[:,w_idx]\n",
    "\n",
    "## truth\n",
    "Pi_true = Ltrue @ Ftrue.T\n",
    "Ctrue = Pi_true.T @ Pi_true / n\n",
    "Cbar0 = Ctrue / Ctrue.sum(axis = 1)[:, None]\n",
    "\n",
    "S0, _, _ = findS(Cbar0, k)\n",
    "Cbar0_pj = pca_proj(Cbar0)\n",
    "\n",
    "lam_pm, s, pi, q, ll = NPMLE(X)\n"
   ]
  },
  {
   "cell_type": "code",
   "execution_count": 7,
   "metadata": {},
   "outputs": [
    {
     "data": {
      "image/png": "[encoded data removed]",
      "text/plain": [
       "<Figure size 432x288 with 1 Axes>"
      ]
     },
     "metadata": {
      "needs_background": "light"
     },
     "output_type": "display_data"
    },
    {
     "data": {
      "image/png": "[encoded data removed]",
      "text/plain": [
       "<Figure size 432x288 with 1 Axes>"
      ]
     },
     "metadata": {
      "needs_background": "light"
     },
     "output_type": "display_data"
    }
   ],
   "source": [
    "plt.hist(pi, bins = 50)\n",
    "plt.title(\"hist of pi\")\n",
    "plt.show()\n",
    "\n",
    "plt.hist(q.max(axis = 1), bins = 50)\n",
    "plt.title(\"hist of maximum in each row of q_jl\")\n",
    "plt.show()"
   ]
  },
  {
   "cell_type": "code",
   "execution_count": 8,
   "metadata": {},
   "outputs": [
    {
     "name": "stdout",
     "output_type": "stream",
     "text": [
      "[inference.findS] Start finding the set of anchor bases S...\n",
      "+ Finish finding set S!\n",
      "  - Discovered 3 basis vectors by [sparsePartial] method.\n",
      "  - Elapsed time = 0.0182 seconds\n",
      "\n"
     ]
    },
    {
     "data": {
      "image/png": "[encoded data removed]",
      "text/plain": [
       "<Figure size 432x288 with 1 Axes>"
      ]
     },
     "metadata": {
      "needs_background": "light"
     },
     "output_type": "display_data"
    }
   ],
   "source": [
    "# X_dn = lam_pm * s[None,:]\n",
    "# Pi = X_dn / X_dn.sum(axis = 0)\n",
    "# C = (Pi @ Pi.T) / n\n",
    "# Cbar = C / C.sum(axis = 1)[:, None]\n",
    "# S, _, _ = findS(Cbar, k)\n",
    "# Cbar_pj = pca_proj(Cbar)\n",
    "\n",
    "# vis_extremal_pca(Cbar_pj, S0, which_dim = [0, 1], annotate=True,fontsize=10)\n"
   ]
  }
 ],
 "metadata": {
  "kernelspec": {
   "display_name": "Python 3",
   "language": "python",
   "name": "python3"
  },
  "language_info": {
   "codemirror_mode": {
    "name": "ipython",
    "version": 3
   },
   "file_extension": ".py",
   "mimetype": "text/x-python",
   "name": "python",
   "nbconvert_exporter": "python",
   "pygments_lexer": "ipython3",
   "version": "3.7.6"
  }
 },
 "nbformat": 4,
 "nbformat_minor": 4
}
