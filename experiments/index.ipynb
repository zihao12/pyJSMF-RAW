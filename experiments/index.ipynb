{
 "cells": [
  {
   "cell_type": "markdown",
   "metadata": {},
   "source": [
    "## Goal\n",
    "This website is about [anchor-word NMF algorithm](https://drive.google.com/file/d/1R9kdE8u8wPpNQgk40YMawHrAuKJtFfTC/view), its main issues & fixes, and applications. \n",
    "\n",
    "## Motivation\n",
    "Although it's hard to say whether the anchor-word assumption holds up in real data (allowing for reasonable noise), we can see [the NMF fit to real data largely satisfy the anchor assumption](https://zihao12.github.io/pyJSMF-RAW/real_data_anchor_word) (from text to gene expression data)\n",
    "\n",
    "\n",
    "## Issues\n",
    "The anchor-word algorithm as presented in [this seminal paper](https://arxiv.org/pdf/1212.4777.pdf) requires the observation matrix to have each column/word/gene to sum to 1. The column-wise scaling amplifies noise for rare words. As a result, many rare words appear like anchor word only due to chance (say if a word only appears once in one document, which is purely loaded in one topic, then it must be an anchor word!!) This is investigated [here](https://zihao12.github.io/pyJSMF-RAW/issues_finding_anchor_word)\n",
    "\n",
    "## Fixes\n",
    "\n",
    "* One direction is on relaxing the sum-to-one condition: [scale carefully](https://zihao12.github.io/pyJSMF-RAW/scaling_C) \n",
    "\n",
    "* The other direction is on denoising the observation matrix (which is high dimensional and sparse), especially for rare words. The best way so far is using the [MAGIC](https://www.cell.com/action/showPdf?pii=S0092-8674%2818%2930724-4) package to do [denoising](https://zihao12.github.io/pyJSMF-RAW/magic). Note that this is only good for finding anchor words: the shrinkage effect is too strong. \n",
    "    - We want a more principled approach to MAGIC. Main challenge is how to model the high-dimensional sparse count vector. \n",
    "    \n",
    "* I feel we need a few iterative steps to get a good solution: denoising step can be improved with better structural assumpption, and structure estimation can be improved with better denoising. \n",
    "\n",
    "\n",
    "## Practical Usage\n",
    "* In some settings we can get really good initialization from anchor-word algorithm. Only a couple of iterations gets us very close to solution: [here](https://zihao12.github.io/pyJSMF-RAW/anchor_word_as_initialization) \n",
    "\n",
    "\n",
    "<!-- * [anchor-word NMF algorithm](https://drive.google.com/file/d/1R9kdE8u8wPpNQgk40YMawHrAuKJtFfTC/view)\n",
    "\n",
    "* [anchor-word assumption in real data](https://zihao12.github.io/pyJSMF-RAW/real_data_anchor_word)\n",
    "\n",
    "* [Issues with the vanila algorithm](https://zihao12.github.io/pyJSMF-RAW/issues_finding_anchor_word)\n",
    "\n",
    "* [Heuristic fixes](https://zihao12.github.io/pyJSMF-RAW/scaling_C)\n",
    "\n",
    "* [denoising with magic](https://zihao12.github.io/pyJSMF-RAW/magic)\n",
    "\n",
    "* [as initialization for NMF](https://zihao12.github.io/pyJSMF-RAW/anchor_word_as_initialization) -->\n",
    "\n",
    "\n",
    "\n",
    "\n"
   ]
  }
 ],
 "metadata": {
  "kernelspec": {
   "display_name": "Python 3",
   "language": "python",
   "name": "python3"
  },
  "language_info": {
   "codemirror_mode": {
    "name": "ipython",
    "version": 3
   },
   "file_extension": ".py",
   "mimetype": "text/x-python",
   "name": "python",
   "nbconvert_exporter": "python",
   "pygments_lexer": "ipython3",
   "version": "3.7.6"
  }
 },
 "nbformat": 4,
 "nbformat_minor": 4
}
