{
 "cells": [
  {
   "cell_type": "markdown",
   "metadata": {},
   "source": [
    "* [anchor-word NMF algorithm](https://drive.google.com/file/d/1R9kdE8u8wPpNQgk40YMawHrAuKJtFfTC/view)\n",
    "\n",
    "* [anchor-word assumption in real data](https://zihao12.github.io/pyJSMF-RAW/real_data_anchor_word)\n",
    "\n",
    "* [Issues with the vanila algorithm](https://zihao12.github.io/pyJSMF-RAW/issues_finding_anchor_word)\n",
    "\n",
    "* [Heuristic fixes](https://zihao12.github.io/pyJSMF-RAW/scaling_C)\n",
    "\n",
    "* [denoising with magic](https://zihao12.github.io/pyJSMF-RAW/magic)\n"
   ]
  }
 ],
 "metadata": {
  "kernelspec": {
   "display_name": "Python 3",
   "language": "python",
   "name": "python3"
  },
  "language_info": {
   "codemirror_mode": {
    "name": "ipython",
    "version": 3
   },
   "file_extension": ".py",
   "mimetype": "text/x-python",
   "name": "python",
   "nbconvert_exporter": "python",
   "pygments_lexer": "ipython3",
   "version": "3.7.6"
  }
 },
 "nbformat": 4,
 "nbformat_minor": 4
}
