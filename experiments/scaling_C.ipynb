{
 "cells": [
  {
   "cell_type": "code",
   "execution_count": 1,
   "metadata": {},
   "outputs": [],
   "source": [
    "import os\n",
    "import sys\n",
    "import pandas as pd\n",
    "from scipy import sparse\n",
    "import matplotlib.pyplot as plt\n",
    "from mpl_toolkits import mplot3d\n",
    "from mpl_toolkits.mplot3d.art3d import Poly3DCollection\n",
    "\n",
    "import numpy as np\n",
    "import pickle\n",
    "from sklearn.decomposition import PCA\n",
    "from sklearn.decomposition import NMF\n",
    "from sklearn.decomposition import TruncatedSVD\n",
    "\n",
    "from scipy.stats import betabinom\n",
    "from scipy.optimize import minimize\n",
    "\n",
    "script_dir = \"../\"\n",
    "sys.path.append(os.path.abspath(script_dir))\n",
    "from file2 import *\n",
    "from factorize import *\n",
    "from smallsim_functions4 import *\n",
    "from misc import *\n",
    "from sinkhorn import * \n",
    "\n",
    "datadir = \"../../../gdrive/github_data/pyJSMF-RAW-data\"\n",
    "%matplotlib widget\n"
   ]
  },
  {
   "cell_type": "markdown",
   "metadata": {},
   "source": [
    "## A very simple example"
   ]
  },
  {
   "cell_type": "code",
   "execution_count": 2,
   "metadata": {},
   "outputs": [
    {
     "name": "stdout",
     "output_type": "stream",
     "text": [
      "0.0019352874999999927\n"
     ]
    },
    {
     "data": {
      "application/vnd.jupyter.widget-view+json": {
       "model_id": "2df54d6afbd240de9ea42a01a2440f73",
       "version_major": 2,
       "version_minor": 0
      },
      "text/plain": [
       "Canvas(toolbar=Toolbar(toolitems=[('Home', 'Reset original view', 'home', 'home'), ('Back', 'Back to previous …"
      ]
     },
     "metadata": {},
     "output_type": "display_data"
    }
   ],
   "source": [
    "file = open(f'{datadir}/improve_C.pkl', 'rb')\n",
    "out = pickle.load(file)\n",
    "file.close()\n",
    "\n",
    "\n",
    "X = out[\"X\"]\n",
    "Ftrue = out[\"Ftrue\"]\n",
    "Ltrue = out[\"Ltrue\"]\n",
    "Pi_true = out[\"Pi_true\"]\n",
    "Pi_eb = out[\"Pi\"]\n",
    "AB = out[\"AB\"]\n",
    "k = 3 ## forgot to store\n",
    "n, p = X.shape\n",
    "\n",
    "## truth\n",
    "Ctrue = Pi_true.T @ Pi_true / n\n",
    "Cbar0 = Ctrue / Ctrue.sum(axis = 1)[:, None]\n",
    "\n",
    "Pi = X / X.sum(axis = 1)[:, None]\n",
    "C = Pi.T @ Pi / n\n",
    "\n",
    "## naive Cbar\n",
    "Cbar1 = C / C.sum(axis = 1)[:, None] \n",
    "\n",
    "## apply EB shrinkage to estimate Pi, then construct CBar\n",
    "Cbar2 = Pi_eb.T @ Pi_eb / n\n",
    "Cbar2 /= Cbar2.sum(axis = 1)[:, None]\n",
    "\n",
    "## Cbar without scaling C\n",
    "Cbar3 = C / C.sum(axis = 1).max()\n",
    "\n",
    "## C scaled with a cutoff\n",
    "d = C.sum(axis = 1)\n",
    "cutoff = np.quantile(d, [0.953])[0] ## need a more principled way to do this!!\n",
    "d[d < cutoff] = cutoff\n",
    "Cbar4 = C / d[:, None]\n",
    "\n",
    "print(cutoff)\n",
    "plt.hist(C.sum(axis = 1))\n",
    "plt.axvline(x=cutoff, color = \"red\")\n",
    "plt.show()"
   ]
  },
  {
   "cell_type": "code",
   "execution_count": 3,
   "metadata": {},
   "outputs": [],
   "source": [
    "%%capture\n",
    "\n",
    "S0, _, _ = findS(Cbar0, k)\n",
    "S1, _, _ = findS(Cbar1, k)\n",
    "S2, _, _ = findS(Cbar2, k)\n",
    "S3, _, _ = findS(Cbar3, k)\n",
    "S4, _, _ = findS(Cbar4, k)\n",
    "\n",
    "Cbar0_pj = pca_proj(Cbar0)\n",
    "Cbar1_pj = pca_proj(Cbar1)\n",
    "Cbar2_pj = pca_proj(Cbar2)\n",
    "Cbar3_pj = pca_proj(Cbar3)\n",
    "Cbar4_pj = pca_proj(Cbar4)"
   ]
  },
  {
   "cell_type": "code",
   "execution_count": 4,
   "metadata": {},
   "outputs": [
    {
     "data": {
      "application/vnd.jupyter.widget-view+json": {
       "model_id": "0d109a36caca42c58a401110f5955d86",
       "version_major": 2,
       "version_minor": 0
      },
      "text/plain": [
       "Canvas(toolbar=Toolbar(toolitems=[('Home', 'Reset original view', 'home', 'home'), ('Back', 'Back to previous …"
      ]
     },
     "metadata": {},
     "output_type": "display_data"
    },
    {
     "data": {
      "application/vnd.jupyter.widget-view+json": {
       "model_id": "43c2ebbbd5f44bdb986e0cffce60e378",
       "version_major": 2,
       "version_minor": 0
      },
      "text/plain": [
       "Canvas(toolbar=Toolbar(toolitems=[('Home', 'Reset original view', 'home', 'home'), ('Back', 'Back to previous …"
      ]
     },
     "metadata": {},
     "output_type": "display_data"
    },
    {
     "data": {
      "application/vnd.jupyter.widget-view+json": {
       "model_id": "4b372902075a41ffb0aa681d8f0cc00c",
       "version_major": 2,
       "version_minor": 0
      },
      "text/plain": [
       "Canvas(toolbar=Toolbar(toolitems=[('Home', 'Reset original view', 'home', 'home'), ('Back', 'Back to previous …"
      ]
     },
     "metadata": {},
     "output_type": "display_data"
    },
    {
     "data": {
      "application/vnd.jupyter.widget-view+json": {
       "model_id": "77992907374e48048abea860f2dba42c",
       "version_major": 2,
       "version_minor": 0
      },
      "text/plain": [
       "Canvas(toolbar=Toolbar(toolitems=[('Home', 'Reset original view', 'home', 'home'), ('Back', 'Back to previous …"
      ]
     },
     "metadata": {},
     "output_type": "display_data"
    }
   ],
   "source": [
    "which_dim = [0, 1]\n",
    "vis_extremal2(Cbar0_pj, S0, S1, which_dim = which_dim, annotate=True,fontsize=10)\n",
    "vis_extremal2(Cbar0_pj, S0, S2, which_dim = which_dim, annotate=True,fontsize=10)\n",
    "vis_extremal2(Cbar0_pj, S0, S3, which_dim = which_dim, annotate=True,fontsize=10)\n",
    "vis_extremal2(Cbar0_pj, S0, S4, which_dim = which_dim, annotate=True,fontsize=10)"
   ]
  },
  {
   "cell_type": "code",
   "execution_count": 5,
   "metadata": {},
   "outputs": [
    {
     "data": {
      "application/vnd.jupyter.widget-view+json": {
       "model_id": "556d5286357c45d49fe423fa019ed421",
       "version_major": 2,
       "version_minor": 0
      },
      "text/plain": [
       "Canvas(toolbar=Toolbar(toolitems=[('Home', 'Reset original view', 'home', 'home'), ('Back', 'Back to previous …"
      ]
     },
     "metadata": {},
     "output_type": "display_data"
    },
    {
     "data": {
      "application/vnd.jupyter.widget-view+json": {
       "model_id": "222f0c1db0ba4083a85019169d9cf493",
       "version_major": 2,
       "version_minor": 0
      },
      "text/plain": [
       "Canvas(toolbar=Toolbar(toolitems=[('Home', 'Reset original view', 'home', 'home'), ('Back', 'Back to previous …"
      ]
     },
     "metadata": {},
     "output_type": "display_data"
    },
    {
     "data": {
      "application/vnd.jupyter.widget-view+json": {
       "model_id": "8ae254647ac54d2fb34d7eecab6652fb",
       "version_major": 2,
       "version_minor": 0
      },
      "text/plain": [
       "Canvas(toolbar=Toolbar(toolitems=[('Home', 'Reset original view', 'home', 'home'), ('Back', 'Back to previous …"
      ]
     },
     "metadata": {},
     "output_type": "display_data"
    },
    {
     "data": {
      "application/vnd.jupyter.widget-view+json": {
       "model_id": "33634b94145444fba2b7a860e5214420",
       "version_major": 2,
       "version_minor": 0
      },
      "text/plain": [
       "Canvas(toolbar=Toolbar(toolitems=[('Home', 'Reset original view', 'home', 'home'), ('Back', 'Back to previous …"
      ]
     },
     "metadata": {},
     "output_type": "display_data"
    }
   ],
   "source": [
    "which_dim = [0, 1]\n",
    "vis_extremal2(Cbar1_pj, S0, S1, which_dim = which_dim, annotate=True,fontsize=10)\n",
    "vis_extremal2(Cbar2_pj, S0, S2, which_dim = which_dim, annotate=True,fontsize=10)\n",
    "vis_extremal2(Cbar3_pj, S0, S3, which_dim = which_dim, annotate=True,fontsize=10)\n",
    "vis_extremal2(Cbar4_pj, S0, S4, which_dim = which_dim, annotate=True,fontsize=10)"
   ]
  },
  {
   "cell_type": "markdown",
   "metadata": {},
   "source": [
    "### Look at $\\hat{\\bar{C}}$ in 3d"
   ]
  },
  {
   "cell_type": "code",
   "execution_count": 6,
   "metadata": {},
   "outputs": [
    {
     "data": {
      "application/vnd.jupyter.widget-view+json": {
       "model_id": "6ad70f53e14d409fb5558876a7da7533",
       "version_major": 2,
       "version_minor": 0
      },
      "text/plain": [
       "Canvas(toolbar=Toolbar(toolitems=[('Home', 'Reset original view', 'home', 'home'), ('Back', 'Back to previous …"
      ]
     },
     "metadata": {},
     "output_type": "display_data"
    },
    {
     "data": {
      "application/vnd.jupyter.widget-view+json": {
       "model_id": "89e8dc7218d64d519cfeeeb196b984b8",
       "version_major": 2,
       "version_minor": 0
      },
      "text/plain": [
       "Canvas(toolbar=Toolbar(toolitems=[('Home', 'Reset original view', 'home', 'home'), ('Back', 'Back to previous …"
      ]
     },
     "metadata": {},
     "output_type": "display_data"
    },
    {
     "data": {
      "application/vnd.jupyter.widget-view+json": {
       "model_id": "8d4fab6aa96946958ca136e6dafec8f2",
       "version_major": 2,
       "version_minor": 0
      },
      "text/plain": [
       "Canvas(toolbar=Toolbar(toolitems=[('Home', 'Reset original view', 'home', 'home'), ('Back', 'Back to previous …"
      ]
     },
     "metadata": {},
     "output_type": "display_data"
    },
    {
     "data": {
      "application/vnd.jupyter.widget-view+json": {
       "model_id": "d3837d6323b14d749d2455d704601f1e",
       "version_major": 2,
       "version_minor": 0
      },
      "text/plain": [
       "Canvas(toolbar=Toolbar(toolitems=[('Home', 'Reset original view', 'home', 'home'), ('Back', 'Back to previous …"
      ]
     },
     "metadata": {},
     "output_type": "display_data"
    },
    {
     "data": {
      "application/vnd.jupyter.widget-view+json": {
       "model_id": "8f85b1eebdd249f9b05c9dc0129d70ad",
       "version_major": 2,
       "version_minor": 0
      },
      "text/plain": [
       "Canvas(toolbar=Toolbar(toolitems=[('Home', 'Reset original view', 'home', 'home'), ('Back', 'Back to previous …"
      ]
     },
     "metadata": {},
     "output_type": "display_data"
    }
   ],
   "source": [
    "vis_extremal_3d(Cbar0_pj[:, :3], S0)\n",
    "vis_extremal_3d(Cbar1_pj[:, :3], S0)\n",
    "vis_extremal_3d(Cbar2_pj[:, :3], S0)\n",
    "vis_extremal_3d(Cbar3_pj[:, :3], S0)\n",
    "vis_extremal_3d(Cbar4_pj[:, :3], S0)"
   ]
  },
  {
   "cell_type": "markdown",
   "metadata": {},
   "source": [
    "Look at \"true\" $\\bar{C}^{(4)}$"
   ]
  },
  {
   "cell_type": "code",
   "execution_count": 7,
   "metadata": {},
   "outputs": [],
   "source": [
    "%%capture\n",
    "Cbar4_true = Ctrue / d[:, None]\n",
    "Cbar4_true_pj = pca_proj(Cbar4_true)\n",
    "S40, _, _ = findS(Cbar4_true, k)"
   ]
  },
  {
   "cell_type": "code",
   "execution_count": 8,
   "metadata": {},
   "outputs": [
    {
     "data": {
      "application/vnd.jupyter.widget-view+json": {
       "model_id": "3c55bc6ecc2e4550af44578012ca5f12",
       "version_major": 2,
       "version_minor": 0
      },
      "text/plain": [
       "Canvas(toolbar=Toolbar(toolitems=[('Home', 'Reset original view', 'home', 'home'), ('Back', 'Back to previous …"
      ]
     },
     "metadata": {},
     "output_type": "display_data"
    }
   ],
   "source": [
    "coords = Cbar4_true_pj[:, :3]\n",
    "vis_extremal_3d(coords, S40)"
   ]
  },
  {
   "cell_type": "markdown",
   "metadata": {},
   "source": [
    "## More realistic example"
   ]
  },
  {
   "cell_type": "code",
   "execution_count": 10,
   "metadata": {},
   "outputs": [],
   "source": [
    "## load data\n",
    "dataname = \"sla\"\n",
    "k = 6\n",
    "rate=3\n",
    "\n",
    "datafile=f\"{datadir}/fit_sim_{dataname}_fastTopics_k{k}_rate{rate}.pkl\"\n",
    "with open(datafile, \"rb\") as f:\n",
    "    fitted = pickle.load(f)\n",
    "    \n",
    "file = open(f'{datadir}/improve_C2.pkl', 'rb')\n",
    "out = pickle.load(file)\n",
    "file.close()\n",
    "\n",
    "X = fitted['X'].toarray()\n",
    "Ltrue = fitted['Ltrue']\n",
    "Ftrue = fitted['Ftrue']\n",
    "\n",
    "\n",
    "Pi_true = Ltrue @ Ftrue.T\n",
    "Pi_eb = out[\"Pi\"]\n",
    "AB = out[\"AB\"]\n",
    "n, p = X.shape\n",
    "\n",
    "\n"
   ]
  },
  {
   "cell_type": "code",
   "execution_count": 11,
   "metadata": {},
   "outputs": [
    {
     "name": "stdout",
     "output_type": "stream",
     "text": [
      "0.0011210989029978898\n"
     ]
    }
   ],
   "source": [
    "## truth\n",
    "Ctrue = Pi_true.T @ Pi_true / n\n",
    "Cbar0 = Ctrue / Ctrue.sum(axis = 1)[:, None]\n",
    "\n",
    "## naive Cbar\n",
    "Pi = X / X.sum(axis = 1)[:, None]\n",
    "C = Pi.T @ Pi / n\n",
    "Cbar1 = C / C.sum(axis = 1)[:, None] \n",
    "\n",
    "## apply EB shrinkage to estimate Pi, then construct CBar\n",
    "Cbar2 = Pi_eb.T @ Pi_eb / n\n",
    "Cbar2 /= Cbar2.sum(axis = 1)[:, None]\n",
    "\n",
    "## Cbar without scaling C\n",
    "d = C.sum(axis = 1)\n",
    "Cbar3 = C / d.max()\n",
    "\n",
    "## C scaled with a cutoff\n",
    "cutoff = np.quantile(d, [0.98])[0] ## need a more principled way to do this!!\n",
    "d[d < cutoff] = cutoff\n",
    "Cbar4 = C / d[:, None]\n",
    "\n",
    "print(cutoff)\n",
    "plt.hist(C.sum(axis = 1))\n",
    "plt.axvline(x=cutoff, color = \"red\")\n",
    "plt.show()"
   ]
  },
  {
   "cell_type": "code",
   "execution_count": 12,
   "metadata": {},
   "outputs": [],
   "source": [
    "%%capture\n",
    "\n",
    "S0, _, _ = findS(Cbar0, k)\n",
    "S1, _, _ = findS(Cbar1, k)\n",
    "S2, _, _ = findS(Cbar2, k)\n",
    "S3, _, _ = findS(Cbar3, k)\n",
    "S4, _, _ = findS(Cbar4, k)\n",
    "\n",
    "Cbar0_pj = pca_proj(Cbar0)\n",
    "Cbar1_pj = pca_proj(Cbar1)\n",
    "Cbar2_pj = pca_proj(Cbar2)\n",
    "Cbar3_pj = pca_proj(Cbar3)\n",
    "Cbar4_pj = pca_proj(Cbar4)"
   ]
  },
  {
   "cell_type": "code",
   "execution_count": 13,
   "metadata": {},
   "outputs": [
    {
     "data": {
      "application/vnd.jupyter.widget-view+json": {
       "model_id": "48420760fc7240939584cec4902ce05f",
       "version_major": 2,
       "version_minor": 0
      },
      "text/plain": [
       "Canvas(toolbar=Toolbar(toolitems=[('Home', 'Reset original view', 'home', 'home'), ('Back', 'Back to previous …"
      ]
     },
     "metadata": {},
     "output_type": "display_data"
    },
    {
     "data": {
      "application/vnd.jupyter.widget-view+json": {
       "model_id": "9ebda57e386d4d37888a9c219a61ad4e",
       "version_major": 2,
       "version_minor": 0
      },
      "text/plain": [
       "Canvas(toolbar=Toolbar(toolitems=[('Home', 'Reset original view', 'home', 'home'), ('Back', 'Back to previous …"
      ]
     },
     "metadata": {},
     "output_type": "display_data"
    },
    {
     "data": {
      "application/vnd.jupyter.widget-view+json": {
       "model_id": "dd02da1fb49845b18e754a7950a35dd4",
       "version_major": 2,
       "version_minor": 0
      },
      "text/plain": [
       "Canvas(toolbar=Toolbar(toolitems=[('Home', 'Reset original view', 'home', 'home'), ('Back', 'Back to previous …"
      ]
     },
     "metadata": {},
     "output_type": "display_data"
    },
    {
     "name": "stderr",
     "output_type": "stream",
     "text": [
      "/home/zihao/Desktop/git/pyJSMF-RAW/misc.py:44: RuntimeWarning: More than 20 figures have been opened. Figures created through the pyplot interface (`matplotlib.pyplot.figure`) are retained until explicitly closed and may consume too much memory. (To control this warning, see the rcParam `figure.max_open_warning`).\n",
      "  fig = plt.figure()\n"
     ]
    },
    {
     "data": {
      "application/vnd.jupyter.widget-view+json": {
       "model_id": "d9c23701d631437e8a5396186a8882eb",
       "version_major": 2,
       "version_minor": 0
      },
      "text/plain": [
       "Canvas(toolbar=Toolbar(toolitems=[('Home', 'Reset original view', 'home', 'home'), ('Back', 'Back to previous …"
      ]
     },
     "metadata": {},
     "output_type": "display_data"
    },
    {
     "data": {
      "application/vnd.jupyter.widget-view+json": {
       "model_id": "858e1db6cbe7418c807873402afcecb4",
       "version_major": 2,
       "version_minor": 0
      },
      "text/plain": [
       "Canvas(toolbar=Toolbar(toolitems=[('Home', 'Reset original view', 'home', 'home'), ('Back', 'Back to previous …"
      ]
     },
     "metadata": {},
     "output_type": "display_data"
    }
   ],
   "source": [
    "which_dim = [0, 1]\n",
    "vis_extremal_pca(Cbar0_pj, S0, which_dim = which_dim, annotate=True,fontsize=10)\n",
    "vis_extremal_pca(Cbar0_pj, S1, which_dim = which_dim, annotate=True,fontsize=10)\n",
    "vis_extremal_pca(Cbar0_pj, S2, which_dim = which_dim, annotate=True,fontsize=10)\n",
    "vis_extremal_pca(Cbar0_pj, S3, which_dim = which_dim, annotate=True,fontsize=10)\n",
    "vis_extremal_pca(Cbar0_pj, S4, which_dim = which_dim, annotate=True,fontsize=10)\n"
   ]
  },
  {
   "cell_type": "code",
   "execution_count": 14,
   "metadata": {},
   "outputs": [
    {
     "name": "stderr",
     "output_type": "stream",
     "text": [
      "/home/zihao/Desktop/git/pyJSMF-RAW/misc.py:68: RuntimeWarning: More than 20 figures have been opened. Figures created through the pyplot interface (`matplotlib.pyplot.figure`) are retained until explicitly closed and may consume too much memory. (To control this warning, see the rcParam `figure.max_open_warning`).\n",
      "  fig = plt.figure()\n"
     ]
    },
    {
     "data": {
      "application/vnd.jupyter.widget-view+json": {
       "model_id": "0c5cbd257ad34e1dba112c671da3e0c0",
       "version_major": 2,
       "version_minor": 0
      },
      "text/plain": [
       "Canvas(toolbar=Toolbar(toolitems=[('Home', 'Reset original view', 'home', 'home'), ('Back', 'Back to previous …"
      ]
     },
     "metadata": {},
     "output_type": "display_data"
    },
    {
     "data": {
      "application/vnd.jupyter.widget-view+json": {
       "model_id": "ccd81555986848559d0a2064035f7a99",
       "version_major": 2,
       "version_minor": 0
      },
      "text/plain": [
       "Canvas(toolbar=Toolbar(toolitems=[('Home', 'Reset original view', 'home', 'home'), ('Back', 'Back to previous …"
      ]
     },
     "metadata": {},
     "output_type": "display_data"
    },
    {
     "data": {
      "application/vnd.jupyter.widget-view+json": {
       "model_id": "cc277b7f3bc4412f887d3027a271fa34",
       "version_major": 2,
       "version_minor": 0
      },
      "text/plain": [
       "Canvas(toolbar=Toolbar(toolitems=[('Home', 'Reset original view', 'home', 'home'), ('Back', 'Back to previous …"
      ]
     },
     "metadata": {},
     "output_type": "display_data"
    },
    {
     "data": {
      "application/vnd.jupyter.widget-view+json": {
       "model_id": "6a352a6e95c747f2b30710dc29af122f",
       "version_major": 2,
       "version_minor": 0
      },
      "text/plain": [
       "Canvas(toolbar=Toolbar(toolitems=[('Home', 'Reset original view', 'home', 'home'), ('Back', 'Back to previous …"
      ]
     },
     "metadata": {},
     "output_type": "display_data"
    }
   ],
   "source": [
    "which_dim = [0, 1]\n",
    "vis_extremal2(Cbar1_pj, S0, S1, which_dim = which_dim, annotate=True,fontsize=10)\n",
    "vis_extremal2(Cbar2_pj, S0, S2, which_dim = which_dim, annotate=True,fontsize=10)\n",
    "vis_extremal2(Cbar3_pj, S0, S3, which_dim = which_dim, annotate=True,fontsize=10)\n",
    "vis_extremal2(Cbar4_pj, S0, S4, which_dim = which_dim, annotate=True,fontsize=10)"
   ]
  },
  {
   "cell_type": "code",
   "execution_count": 15,
   "metadata": {},
   "outputs": [
    {
     "data": {
      "application/vnd.jupyter.widget-view+json": {
       "model_id": "7f349d0681ed4bceb4352893b983daa9",
       "version_major": 2,
       "version_minor": 0
      },
      "text/plain": [
       "Canvas(toolbar=Toolbar(toolitems=[('Home', 'Reset original view', 'home', 'home'), ('Back', 'Back to previous …"
      ]
     },
     "metadata": {},
     "output_type": "display_data"
    },
    {
     "data": {
      "application/vnd.jupyter.widget-view+json": {
       "model_id": "4f541eccbac249659e6f902781f75c5e",
       "version_major": 2,
       "version_minor": 0
      },
      "text/plain": [
       "Canvas(toolbar=Toolbar(toolitems=[('Home', 'Reset original view', 'home', 'home'), ('Back', 'Back to previous …"
      ]
     },
     "metadata": {},
     "output_type": "display_data"
    },
    {
     "data": {
      "application/vnd.jupyter.widget-view+json": {
       "model_id": "e20c2cd0193642b595228ce43718fe58",
       "version_major": 2,
       "version_minor": 0
      },
      "text/plain": [
       "Canvas(toolbar=Toolbar(toolitems=[('Home', 'Reset original view', 'home', 'home'), ('Back', 'Back to previous …"
      ]
     },
     "metadata": {},
     "output_type": "display_data"
    }
   ],
   "source": [
    "vis_extremal2(Cbar4_pj, S0, S4, which_dim = [2, 3], annotate=True,fontsize=10)\n",
    "vis_extremal2(Cbar4_pj, S0, S4, which_dim = [4, 5], annotate=True,fontsize=10)\n",
    "vis_extremal2(Cbar4_pj, S0, S4, which_dim = [6, 7], annotate=True,fontsize=10)"
   ]
  },
  {
   "cell_type": "code",
   "execution_count": 16,
   "metadata": {},
   "outputs": [
    {
     "name": "stderr",
     "output_type": "stream",
     "text": [
      "/home/zihao/Desktop/git/pyJSMF-RAW/misc.py:99: RuntimeWarning: More than 20 figures have been opened. Figures created through the pyplot interface (`matplotlib.pyplot.figure`) are retained until explicitly closed and may consume too much memory. (To control this warning, see the rcParam `figure.max_open_warning`).\n",
      "  fig = plt.figure()\n"
     ]
    },
    {
     "data": {
      "application/vnd.jupyter.widget-view+json": {
       "model_id": "1b88400e6b5a454ba31293b9993d81d6",
       "version_major": 2,
       "version_minor": 0
      },
      "text/plain": [
       "Canvas(toolbar=Toolbar(toolitems=[('Home', 'Reset original view', 'home', 'home'), ('Back', 'Back to previous …"
      ]
     },
     "metadata": {},
     "output_type": "display_data"
    },
    {
     "data": {
      "application/vnd.jupyter.widget-view+json": {
       "model_id": "af55592906274de4b4a710f79d1cf3af",
       "version_major": 2,
       "version_minor": 0
      },
      "text/plain": [
       "Canvas(toolbar=Toolbar(toolitems=[('Home', 'Reset original view', 'home', 'home'), ('Back', 'Back to previous …"
      ]
     },
     "metadata": {},
     "output_type": "display_data"
    },
    {
     "data": {
      "application/vnd.jupyter.widget-view+json": {
       "model_id": "4b53dcfc7d654bc69213678ec26eb1db",
       "version_major": 2,
       "version_minor": 0
      },
      "text/plain": [
       "Canvas(toolbar=Toolbar(toolitems=[('Home', 'Reset original view', 'home', 'home'), ('Back', 'Back to previous …"
      ]
     },
     "metadata": {},
     "output_type": "display_data"
    },
    {
     "data": {
      "application/vnd.jupyter.widget-view+json": {
       "model_id": "f97c89c474cf45b8996b03bfa945f44a",
       "version_major": 2,
       "version_minor": 0
      },
      "text/plain": [
       "Canvas(toolbar=Toolbar(toolitems=[('Home', 'Reset original view', 'home', 'home'), ('Back', 'Back to previous …"
      ]
     },
     "metadata": {},
     "output_type": "display_data"
    },
    {
     "data": {
      "application/vnd.jupyter.widget-view+json": {
       "model_id": "cfb338340a384825b9cc64f3f1ccde54",
       "version_major": 2,
       "version_minor": 0
      },
      "text/plain": [
       "Canvas(toolbar=Toolbar(toolitems=[('Home', 'Reset original view', 'home', 'home'), ('Back', 'Back to previous …"
      ]
     },
     "metadata": {},
     "output_type": "display_data"
    }
   ],
   "source": [
    "vis_extremal_3d(Cbar0_pj[:, :3], S0)\n",
    "vis_extremal_3d(Cbar1_pj[:, :3], S0)\n",
    "vis_extremal_3d(Cbar2_pj[:, :3], S0)\n",
    "vis_extremal_3d(Cbar3_pj[:, :3], S0)\n",
    "vis_extremal_3d(Cbar4_pj[:, :3], S0)"
   ]
  },
  {
   "cell_type": "markdown",
   "metadata": {},
   "source": [
    "### understand what $\\bar{C}^{(4)}$ looks like"
   ]
  },
  {
   "cell_type": "code",
   "execution_count": 17,
   "metadata": {},
   "outputs": [],
   "source": [
    "%%capture\n",
    "Cbar4_true = Ctrue / d[:, None]\n",
    "Cbar4_true_pj = pca_proj(Cbar4_true)\n",
    "S40, _, _ = findS(Cbar4_true, k)"
   ]
  },
  {
   "cell_type": "code",
   "execution_count": 18,
   "metadata": {},
   "outputs": [
    {
     "name": "stderr",
     "output_type": "stream",
     "text": [
      "/home/zihao/Desktop/git/pyJSMF-RAW/misc.py:68: RuntimeWarning: More than 20 figures have been opened. Figures created through the pyplot interface (`matplotlib.pyplot.figure`) are retained until explicitly closed and may consume too much memory. (To control this warning, see the rcParam `figure.max_open_warning`).\n",
      "  fig = plt.figure()\n"
     ]
    },
    {
     "data": {
      "application/vnd.jupyter.widget-view+json": {
       "model_id": "8ec3707a924144dab57e7bb3bdb14ed2",
       "version_major": 2,
       "version_minor": 0
      },
      "text/plain": [
       "Canvas(toolbar=Toolbar(toolitems=[('Home', 'Reset original view', 'home', 'home'), ('Back', 'Back to previous …"
      ]
     },
     "metadata": {},
     "output_type": "display_data"
    },
    {
     "data": {
      "application/vnd.jupyter.widget-view+json": {
       "model_id": "ea31ea04541b4366bcf59ff38cd9605a",
       "version_major": 2,
       "version_minor": 0
      },
      "text/plain": [
       "Canvas(toolbar=Toolbar(toolitems=[('Home', 'Reset original view', 'home', 'home'), ('Back', 'Back to previous …"
      ]
     },
     "metadata": {},
     "output_type": "display_data"
    },
    {
     "data": {
      "application/vnd.jupyter.widget-view+json": {
       "model_id": "a7919ed8a11644b08f45b369622b8b43",
       "version_major": 2,
       "version_minor": 0
      },
      "text/plain": [
       "Canvas(toolbar=Toolbar(toolitems=[('Home', 'Reset original view', 'home', 'home'), ('Back', 'Back to previous …"
      ]
     },
     "metadata": {},
     "output_type": "display_data"
    }
   ],
   "source": [
    "vis_extremal2(Cbar4_true_pj, S40, S4, [0, 1], annotate=True,fontsize=10)\n",
    "vis_extremal2(Cbar4_true_pj, S40, S4, [2, 3], annotate=True,fontsize=10)\n",
    "vis_extremal2(Cbar4_true_pj, S40, S4, [4, 5], annotate=True,fontsize=10)"
   ]
  },
  {
   "cell_type": "code",
   "execution_count": 19,
   "metadata": {},
   "outputs": [
    {
     "name": "stderr",
     "output_type": "stream",
     "text": [
      "/home/zihao/Desktop/git/pyJSMF-RAW/misc.py:99: RuntimeWarning: More than 20 figures have been opened. Figures created through the pyplot interface (`matplotlib.pyplot.figure`) are retained until explicitly closed and may consume too much memory. (To control this warning, see the rcParam `figure.max_open_warning`).\n",
      "  fig = plt.figure()\n"
     ]
    },
    {
     "data": {
      "application/vnd.jupyter.widget-view+json": {
       "model_id": "c51124aeb08a401ba81a8b6c518e3405",
       "version_major": 2,
       "version_minor": 0
      },
      "text/plain": [
       "Canvas(toolbar=Toolbar(toolitems=[('Home', 'Reset original view', 'home', 'home'), ('Back', 'Back to previous …"
      ]
     },
     "metadata": {},
     "output_type": "display_data"
    },
    {
     "data": {
      "application/vnd.jupyter.widget-view+json": {
       "model_id": "f8203cb24f834d40913bfa3f25d2e996",
       "version_major": 2,
       "version_minor": 0
      },
      "text/plain": [
       "Canvas(toolbar=Toolbar(toolitems=[('Home', 'Reset original view', 'home', 'home'), ('Back', 'Back to previous …"
      ]
     },
     "metadata": {},
     "output_type": "display_data"
    }
   ],
   "source": [
    "coords = Cbar4_true_pj[:, :3]\n",
    "vis_extremal_3d(coords, S40)\n",
    "\n",
    "coords = Cbar4_true_pj[:, 3:6]\n",
    "vis_extremal_3d(coords, S40)"
   ]
  }
 ],
 "metadata": {
  "kernelspec": {
   "display_name": "Python 3",
   "language": "python",
   "name": "python3"
  },
  "language_info": {
   "codemirror_mode": {
    "name": "ipython",
    "version": 3
   },
   "file_extension": ".py",
   "mimetype": "text/x-python",
   "name": "python",
   "nbconvert_exporter": "python",
   "pygments_lexer": "ipython3",
   "version": "3.7.6"
  }
 },
 "nbformat": 4,
 "nbformat_minor": 4
}
