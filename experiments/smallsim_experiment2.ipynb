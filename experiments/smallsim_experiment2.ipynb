{
 "cells": [
  {
   "cell_type": "markdown",
   "metadata": {},
   "source": [
    "## Goal\n",
    "\n",
    "I find an improved implementation of anchor-word algorithm at https://aclanthology.org/D19-1504.pdf . I want to see how well it performs on a simulated dataset that satsifies the \"anchor-word\" assumption (the first $k$ rows of $F$ is a diagonal matrix)\n",
    "\n",
    "Note this example is very simple and unrealistic. It's only meant for sanity check. "
   ]
  },
  {
   "cell_type": "code",
   "execution_count": 1,
   "metadata": {},
   "outputs": [],
   "source": [
    "import os\n",
    "import sys\n",
    "import pandas as pd\n",
    "from scipy import sparse\n",
    "from sklearn.decomposition import NMF, LatentDirichletAllocation\n",
    "\n",
    "import numpy as np\n",
    "import matplotlib.pyplot as plt\n",
    "\n",
    "script_dir = \"../\"\n",
    "sys.path.append(os.path.abspath(script_dir))\n",
    "from file2 import *\n",
    "from factorize import *\n",
    "from smallsim_functions_anchor import *\n",
    "from misc import *\n",
    "\n",
    "\n",
    "np.random.seed(123)"
   ]
  },
  {
   "cell_type": "markdown",
   "metadata": {},
   "source": [
    "## small, uncorrelated example"
   ]
  },
  {
   "cell_type": "code",
   "execution_count": 2,
   "metadata": {},
   "outputs": [
    {
     "name": "stdout",
     "output_type": "stream",
     "text": [
      "[file.bows2C] Start constructing dense C...\n",
      "- Counting the co-occurrence for each document...\n",
      "+ Finish constructing C and D!\n",
      "  - The sum of all entries = 1.000000\n",
      "  - Elapsed Time = 0.3171 seconds\n"
     ]
    },
    {
     "data": {
      "text/plain": [
       "(500, 500)"
      ]
     },
     "execution_count": 2,
     "metadata": {},
     "output_type": "execute_result"
    }
   ],
   "source": [
    "n = 1000\n",
    "p = 500\n",
    "k = 4\n",
    "doc_len = 100\n",
    "\n",
    "sim = smallsim_independent(n = n, p = p, k = k, doc_len = doc_len)\n",
    "X = sparse.coo_matrix(sim[\"X\"])\n",
    "L = sim[\"L\"]\n",
    "F = sim[\"F\"]\n",
    "\n",
    "Bows = X2Bows(X)\n",
    "C, D1, D2 = bows2C(Bows, min_tokens=0)\n",
    "\n",
    "C.shape"
   ]
  },
  {
   "cell_type": "code",
   "execution_count": 3,
   "metadata": {},
   "outputs": [
    {
     "name": "stdout",
     "output_type": "stream",
     "text": [
      "+ Start rectifying C...\n",
      "+ Start alternating projection\n",
      "  - 1-th iteration... (3.143473e-04 / 4.940712e-08)\n",
      "  - 2-th iteration... (1.339495e-08 / 4.940714e-08)\n",
      "  - 3-th iteration... (1.130270e-10 / 4.940714e-08)\n",
      "  - 4-th iteration... (9.537263e-13 / 4.940714e-08)\n",
      "  - 5-th iteration... (8.047353e-15 / 4.940714e-08)\n",
      "  - 6-th iteration... (6.810532e-17 / 4.940714e-08)\n",
      "  - 7-th iteration... (1.669514e-18 / 4.940714e-08)\n",
      "  - 8-th iteration... (1.068630e-18 / 4.940714e-08)\n",
      "  - 9-th iteration... (1.053088e-18 / 4.940714e-08)\n",
      "  - 10-th iteration... (1.031591e-18 / 4.940714e-08)\n",
      "  - 11-th iteration... (1.646279e-18 / 4.940714e-08)\n",
      "  - 12-th iteration... (1.728064e-18 / 4.940714e-08)\n",
      "  - 13-th iteration... (1.221014e-18 / 4.940714e-08)\n",
      "  - 14-th iteration... (9.601573e-19 / 4.940714e-08)\n",
      "  - 15-th iteration... (1.318818e-18 / 4.940714e-08)\n",
      "+ Finish alternating projection\n",
      "  - Elapsed seconds = 0.0912\n",
      "\n",
      "  - Finish rectifying C! [0.091223]\n",
      "+ Start finding the set of anchor bases S...\n",
      "[inference.findS] Start finding the set of anchor bases S...\n",
      "+ Finish finding set S!\n",
      "  - Discovered 4 basis vectors by [sparsePartial] method.\n",
      "  - Elapsed time = 0.0024 seconds\n",
      "\n",
      "  - Finish finding S! [0.002379]\n",
      "+ Start recovering the object-cluster B...\n",
      "[inference.recoverB] Start recovering the object-cluster B...\n",
      "+ Finish recovering B matrix using [activeSet]\n",
      "  - 4/500 objects are converged.\n",
      "  - loss = 0.4621 (By Frobenius norm).\n",
      "  - Elapsed time = 0.5522 seconds.\n",
      "\n",
      "  - Finish recovering B! [0.552177]\n",
      "+ Start recovering the cluster-cluster A...\n",
      "[inference.recoverA] Start recovering the cluster-cluster A...\n",
      "+ Finish recovering A!\n",
      "  - [diagonal] recovery is used.\n",
      "  - Elapsed time = 0.0003 seconds.\n",
      "\n",
      "  - Finish recovering A! [0.000263]\n",
      "- Finish factorizing C! [0.650808]\n"
     ]
    }
   ],
   "source": [
    "S, B, A, Btilde, Cbar, C_rowSums, diagR, C = factorizeC(C, K=k, rectifier='AP', optimizer='activeSet')"
   ]
  },
  {
   "cell_type": "markdown",
   "metadata": {},
   "source": [
    "## Evaulate results"
   ]
  },
  {
   "cell_type": "code",
   "execution_count": 4,
   "metadata": {},
   "outputs": [
    {
     "data": {
      "text/plain": [
       "array([1, 2, 0, 3])"
      ]
     },
     "execution_count": 4,
     "metadata": {},
     "output_type": "execute_result"
    }
   ],
   "source": [
    "topic_idx = match_topics(F, B).astype(int)\n",
    "topic_idx"
   ]
  },
  {
   "cell_type": "code",
   "execution_count": 5,
   "metadata": {},
   "outputs": [
    {
     "data": {
      "text/plain": [
       "<matplotlib.collections.PathCollection at 0x7ff771009050>"
      ]
     },
     "execution_count": 5,
     "metadata": {},
     "output_type": "execute_result"
    },
    {
     "data": {
      "image/png": "[encoded data removed]",
      "text/plain": [
       "<Figure size 432x288 with 1 Axes>"
      ]
     },
     "metadata": {
      "needs_background": "light"
     },
     "output_type": "display_data"
    }
   ],
   "source": [
    "plt.scatter(F.flatten(), B[:,topic_idx].flatten())"
   ]
  },
  {
   "cell_type": "code",
   "execution_count": 6,
   "metadata": {},
   "outputs": [
    {
     "data": {
      "text/plain": [
       "array([0, 1, 2, 3])"
      ]
     },
     "execution_count": 6,
     "metadata": {},
     "output_type": "execute_result"
    }
   ],
   "source": [
    "S[topic_idx]"
   ]
  },
  {
   "cell_type": "code",
   "execution_count": 7,
   "metadata": {},
   "outputs": [
    {
     "data": {
      "text/plain": [
       "array([[0.02000822, 0.        , 0.        , 0.        ],\n",
       "       [0.        , 0.0195032 , 0.        , 0.        ],\n",
       "       [0.        , 0.        , 0.0201789 , 0.        ],\n",
       "       [0.        , 0.        , 0.        , 0.01943308]])"
      ]
     },
     "execution_count": 7,
     "metadata": {},
     "output_type": "execute_result"
    }
   ],
   "source": [
    "F[:k, :]"
   ]
  },
  {
   "cell_type": "code",
   "execution_count": 8,
   "metadata": {},
   "outputs": [
    {
     "data": {
      "text/plain": [
       "array([[0.02210265, 0.        , 0.        , 0.        ],\n",
       "       [0.        , 0.01807571, 0.        , 0.        ],\n",
       "       [0.        , 0.        , 0.02086205, 0.        ],\n",
       "       [0.        , 0.        , 0.        , 0.01874497]])"
      ]
     },
     "execution_count": 8,
     "metadata": {},
     "output_type": "execute_result"
    }
   ],
   "source": [
    "B[:k, topic_idx]"
   ]
  },
  {
   "cell_type": "code",
   "execution_count": 9,
   "metadata": {},
   "outputs": [
    {
     "data": {
      "text/plain": [
       "array([[0.0221, 0.    , 0.    , 0.    ],\n",
       "       [0.    , 0.0181, 0.    , 0.    ],\n",
       "       [0.    , 0.    , 0.0209, 0.    ],\n",
       "       [0.    , 0.    , 0.    , 0.0187]])"
      ]
     },
     "execution_count": 9,
     "metadata": {},
     "output_type": "execute_result"
    }
   ],
   "source": [
    "# B[np.ix_(S[topic_idx],topic_idx)].round(4)"
   ]
  },
  {
   "cell_type": "code",
   "execution_count": 10,
   "metadata": {},
   "outputs": [
    {
     "data": {
      "text/plain": [
       "array([[0.14, 0.02, 0.02, 0.02],\n",
       "       [0.02, 0.2 , 0.02, 0.02],\n",
       "       [0.02, 0.02, 0.21, 0.03],\n",
       "       [0.02, 0.02, 0.03, 0.19]])"
      ]
     },
     "execution_count": 10,
     "metadata": {},
     "output_type": "execute_result"
    }
   ],
   "source": [
    "# compare A and LLt/n\n",
    "A_reorder = A[topic_idx,:]\n",
    "A_reorder = A_reorder[:, topic_idx]\n",
    "A_reorder.round(decimals=2)"
   ]
  },
  {
   "cell_type": "code",
   "execution_count": 11,
   "metadata": {},
   "outputs": [
    {
     "data": {
      "text/plain": [
       "array([[0.16, 0.02, 0.02, 0.02],\n",
       "       [0.02, 0.19, 0.02, 0.03],\n",
       "       [0.02, 0.02, 0.2 , 0.03],\n",
       "       [0.02, 0.03, 0.03, 0.17]])"
      ]
     },
     "execution_count": 11,
     "metadata": {},
     "output_type": "execute_result"
    }
   ],
   "source": [
    "L = sim[\"L\"]\n",
    "(L.T.dot(L)/n).round(decimals=2)"
   ]
  },
  {
   "cell_type": "markdown",
   "metadata": {},
   "source": [
    "LDA can find those anchor words very well too"
   ]
  },
  {
   "cell_type": "code",
   "execution_count": 12,
   "metadata": {},
   "outputs": [],
   "source": [
    "# lda = LatentDirichletAllocation(n_components=k, max_iter=20,\n",
    "#                                 random_state=0)\n",
    "# lda.fit(X)\n",
    "\n",
    "# B2 = (lda.components_ / lda.components_.sum(axis=1)[:, np.newaxis]).T\n",
    "# idx = match_topics(B2, F).astype(int)\n",
    "# B2[anchor_words[idx],:].round(3)"
   ]
  }
 ],
 "metadata": {
  "kernelspec": {
   "display_name": "Python 3",
   "language": "python",
   "name": "python3"
  },
  "language_info": {
   "codemirror_mode": {
    "name": "ipython",
    "version": 3
   },
   "file_extension": ".py",
   "mimetype": "text/x-python",
   "name": "python",
   "nbconvert_exporter": "python",
   "pygments_lexer": "ipython3",
   "version": "3.7.6"
  }
 },
 "nbformat": 4,
 "nbformat_minor": 4
}
