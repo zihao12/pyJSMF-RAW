{
 "cells": [
  {
   "cell_type": "markdown",
   "metadata": {},
   "source": [
    "Sanity check on Sinkhorn algorithm as experimented in [experiment](https://stephens999.github.io/misc/sinkhorn.html)"
   ]
  },
  {
   "cell_type": "code",
   "execution_count": 1,
   "metadata": {},
   "outputs": [],
   "source": [
    "import os\n",
    "import sys\n",
    "import pandas as pd\n",
    "from scipy import sparse\n",
    "import pickle\n",
    "\n",
    "import numpy as np\n",
    "import matplotlib.pyplot as plt\n",
    "from scipy.io import mmread\n",
    "script_dir = \"../\"\n",
    "sys.path.append(os.path.abspath(script_dir))\n",
    "from file2 import *\n",
    "from factorize import *\n",
    "from smallsim_functions_anchor import *\n",
    "from misc import *\n",
    "from sinkhorn import * \n",
    "\n",
    "np.random.seed(123)"
   ]
  },
  {
   "cell_type": "code",
   "execution_count": 2,
   "metadata": {},
   "outputs": [],
   "source": [
    "# def sinkhorn(X, niter = 10):\n",
    "#     c = X.mean(axis = 0)\n",
    "#     for i in range(niter):\n",
    "#         r = 1/(X * c).mean(axis = 1)\n",
    "#         c = 1/(X * r[:, None]).mean(axis = 0)        \n",
    "#     Xnorm = np.sqrt(r)[:, None] * X * np.sqrt(c)\n",
    "    \n",
    "#     return Xnorm, r, c\n",
    "    "
   ]
  },
  {
   "cell_type": "code",
   "execution_count": 3,
   "metadata": {},
   "outputs": [],
   "source": [
    "m = 300\n",
    "n = 1000\n",
    "r = 10\n",
    "\n",
    "B = np.exp( 2 * np.random.normal(size = (m, r)) )\n",
    "C = np.random.uniform(size = (r, n))\n",
    "X = B @ C\n",
    "X = X / X.mean()\n",
    "\n",
    "Y = np.random.poisson(lam = X, size = (m, n))\n",
    "\n",
    "Ynorm, r, c = sinkhorn(Y)\n",
    "u, s, vh  = np.linalg.svd(Ynorm/np.sqrt(n), full_matrices=False)\n",
    "d = s**2"
   ]
  },
  {
   "cell_type": "code",
   "execution_count": 4,
   "metadata": {},
   "outputs": [
    {
     "data": {
      "image/png": "[encoded data removed]",
      "text/plain": [
       "<Figure size 432x288 with 1 Axes>"
      ]
     },
     "metadata": {
      "needs_background": "light"
     },
     "output_type": "display_data"
    },
    {
     "name": "stdout",
     "output_type": "stream",
     "text": [
      "10\n"
     ]
    }
   ],
   "source": [
    "betaplus = (1 + np.sqrt(m/n))**2\n",
    "plt.hist(d[d < 4])\n",
    "plt.axvline(betaplus, color='k', linestyle='dashed', linewidth=1)\n",
    "plt.show()\n",
    "\n",
    "print(np.sum(d > betaplus))"
   ]
  },
  {
   "cell_type": "code",
   "execution_count": 5,
   "metadata": {},
   "outputs": [
    {
     "name": "stdout",
     "output_type": "stream",
     "text": [
      "(300, 300)\n",
      "(300, 1000)\n"
     ]
    }
   ],
   "source": [
    "print(u.shape)\n",
    "print(vh.shape)"
   ]
  },
  {
   "cell_type": "code",
   "execution_count": 6,
   "metadata": {},
   "outputs": [
    {
     "data": {
      "text/plain": [
       "(300, 1000)"
      ]
     },
     "execution_count": 6,
     "metadata": {},
     "output_type": "execute_result"
    }
   ],
   "source": [
    "Y.shape"
   ]
  },
  {
   "cell_type": "code",
   "execution_count": 7,
   "metadata": {},
   "outputs": [],
   "source": [
    "r = 50\n",
    " "
   ]
  },
  {
   "cell_type": "code",
   "execution_count": 8,
   "metadata": {},
   "outputs": [],
   "source": [
    "C = X2C_svd(Ynorm)"
   ]
  },
  {
   "cell_type": "code",
   "execution_count": 9,
   "metadata": {},
   "outputs": [
    {
     "data": {
      "text/plain": [
       "1e-16"
      ]
     },
     "execution_count": 9,
     "metadata": {},
     "output_type": "execute_result"
    }
   ],
   "source": [
    "C.min()"
   ]
  }
 ],
 "metadata": {
  "kernelspec": {
   "display_name": "Python 3",
   "language": "python",
   "name": "python3"
  },
  "language_info": {
   "codemirror_mode": {
    "name": "ipython",
    "version": 3
   },
   "file_extension": ".py",
   "mimetype": "text/x-python",
   "name": "python",
   "nbconvert_exporter": "python",
   "pygments_lexer": "ipython3",
   "version": "3.7.6"
  }
 },
 "nbformat": 4,
 "nbformat_minor": 4
}
